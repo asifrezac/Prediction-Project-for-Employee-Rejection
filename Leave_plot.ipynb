{
 "cells": [
  {
   "cell_type": "code",
   "execution_count": 1,
   "metadata": {
    "tags": []
   },
   "outputs": [],
   "source": [
    "import pandas as pd\n",
    "\n",
    "cwd = '/Users/asifrezachowdhury/Library/CloudStorage/OneDrive-Personal/Academics/QUT Academics/Semester 2-2/IFN711 Project/Project'\n",
    "data_folder = cwd + '/data/'\n",
    "\n",
    "leaveChart = pd.read_csv(data_folder+'EMP_CALDAY_REPTT.csv' ,on_bad_lines='skip',dtype='unicode')\n",
    "actionTimes = pd.read_csv(data_folder+'EMP_ACTIONS.CSV',on_bad_lines='skip',dtype='unicode')\n",
    "\n"
   ]
  },
  {
   "cell_type": "code",
   "execution_count": 15,
   "metadata": {
    "tags": []
   },
   "outputs": [
    {
     "data": {
      "text/html": [
       "<div>\n",
       "<style scoped>\n",
       "    .dataframe tbody tr th:only-of-type {\n",
       "        vertical-align: middle;\n",
       "    }\n",
       "\n",
       "    .dataframe tbody tr th {\n",
       "        vertical-align: top;\n",
       "    }\n",
       "\n",
       "    .dataframe thead th {\n",
       "        text-align: right;\n",
       "    }\n",
       "</style>\n",
       "<table border=\"1\" class=\"dataframe\">\n",
       "  <thead>\n",
       "    <tr style=\"text-align: right;\">\n",
       "      <th></th>\n",
       "      <th>EMPLOYEE_GID</th>\n",
       "      <th>LIMIT</th>\n",
       "    </tr>\n",
       "  </thead>\n",
       "  <tbody>\n",
       "    <tr>\n",
       "      <th>0</th>\n",
       "      <td>000A9D12DA81C5EA71665DA92C52BC9B8F3882A05A1AF3...</td>\n",
       "      <td>2023-02-14</td>\n",
       "    </tr>\n",
       "    <tr>\n",
       "      <th>1</th>\n",
       "      <td>0025A43B35C495E75592FF837E0C0B9C5DD7BD296F4D9E...</td>\n",
       "      <td>2018-11-04</td>\n",
       "    </tr>\n",
       "    <tr>\n",
       "      <th>2</th>\n",
       "      <td>0029744DD95F1C9E9F55905F41678BDE48BED959F6BF1F...</td>\n",
       "      <td>2023-11-03</td>\n",
       "    </tr>\n",
       "    <tr>\n",
       "      <th>3</th>\n",
       "      <td>002B4157AD81B9AABC42F03187DBA067C565E57ED72381...</td>\n",
       "      <td>2022-06-24</td>\n",
       "    </tr>\n",
       "    <tr>\n",
       "      <th>4</th>\n",
       "      <td>002DD4A2DFC5A165491EA5E1E4EC4E588323AC5A3FB95B...</td>\n",
       "      <td>2020-12-08</td>\n",
       "    </tr>\n",
       "    <tr>\n",
       "      <th>...</th>\n",
       "      <td>...</td>\n",
       "      <td>...</td>\n",
       "    </tr>\n",
       "    <tr>\n",
       "      <th>3597</th>\n",
       "      <td>FF563C818CDD4A1F90FB083DFB219C63C551DF040A7F32...</td>\n",
       "      <td>2023-01-26</td>\n",
       "    </tr>\n",
       "    <tr>\n",
       "      <th>3598</th>\n",
       "      <td>FFB9B0F2E30D87709D293B1374BD3B3756F00F6EA46D10...</td>\n",
       "      <td>2023-08-01</td>\n",
       "    </tr>\n",
       "    <tr>\n",
       "      <th>3599</th>\n",
       "      <td>FFC7B7BAE7E8D89DCF143E63C83392ADA48264BF55612B...</td>\n",
       "      <td>2022-12-23</td>\n",
       "    </tr>\n",
       "    <tr>\n",
       "      <th>3600</th>\n",
       "      <td>FFDDB36550677B1858D36736D07BAF4C3104DF7D1F8DB7...</td>\n",
       "      <td>2020-07-06</td>\n",
       "    </tr>\n",
       "    <tr>\n",
       "      <th>3601</th>\n",
       "      <td>FFE1B51B216945B2DDEE882EB39F9B17E89D16DE749A1B...</td>\n",
       "      <td>2022-11-09</td>\n",
       "    </tr>\n",
       "  </tbody>\n",
       "</table>\n",
       "<p>3602 rows × 2 columns</p>\n",
       "</div>"
      ],
      "text/plain": [
       "                                           EMPLOYEE_GID      LIMIT\n",
       "0     000A9D12DA81C5EA71665DA92C52BC9B8F3882A05A1AF3... 2023-02-14\n",
       "1     0025A43B35C495E75592FF837E0C0B9C5DD7BD296F4D9E... 2018-11-04\n",
       "2     0029744DD95F1C9E9F55905F41678BDE48BED959F6BF1F... 2023-11-03\n",
       "3     002B4157AD81B9AABC42F03187DBA067C565E57ED72381... 2022-06-24\n",
       "4     002DD4A2DFC5A165491EA5E1E4EC4E588323AC5A3FB95B... 2020-12-08\n",
       "...                                                 ...        ...\n",
       "3597  FF563C818CDD4A1F90FB083DFB219C63C551DF040A7F32... 2023-01-26\n",
       "3598  FFB9B0F2E30D87709D293B1374BD3B3756F00F6EA46D10... 2023-08-01\n",
       "3599  FFC7B7BAE7E8D89DCF143E63C83392ADA48264BF55612B... 2022-12-23\n",
       "3600  FFDDB36550677B1858D36736D07BAF4C3104DF7D1F8DB7... 2020-07-06\n",
       "3601  FFE1B51B216945B2DDEE882EB39F9B17E89D16DE749A1B... 2022-11-09\n",
       "\n",
       "[3602 rows x 2 columns]"
      ]
     },
     "execution_count": 15,
     "metadata": {},
     "output_type": "execute_result"
    }
   ],
   "source": [
    "leaveChart['CALDAY'] = pd.to_datetime(leaveChart['CALDAY'], format=' %d/%m/%Y')\n",
    "actionTimes['CALDAY'] = pd.to_datetime(actionTimes['CALDAY'], format='%Y%m%d')\n",
    "endPoint = leaveChart.groupby('EMPLOYEE_GID')['CALDAY'].max().reset_index()\n",
    "endPoint = pd.merge(endPoint, endPoint, on=['EMPLOYEE_GID', 'CALDAY'], how='left').rename(columns={\"CALDAY\": \"LIMIT\"})\n",
    "endPoint #people who left"
   ]
  },
  {
   "cell_type": "code",
   "execution_count": 14,
   "metadata": {
    "tags": []
   },
   "outputs": [
    {
     "data": {
      "text/html": [
       "<div>\n",
       "<style scoped>\n",
       "    .dataframe tbody tr th:only-of-type {\n",
       "        vertical-align: middle;\n",
       "    }\n",
       "\n",
       "    .dataframe tbody tr th {\n",
       "        vertical-align: top;\n",
       "    }\n",
       "\n",
       "    .dataframe thead th {\n",
       "        text-align: right;\n",
       "    }\n",
       "</style>\n",
       "<table border=\"1\" class=\"dataframe\">\n",
       "  <thead>\n",
       "    <tr style=\"text-align: right;\">\n",
       "      <th></th>\n",
       "      <th>EMPLOYEE_GID</th>\n",
       "    </tr>\n",
       "  </thead>\n",
       "  <tbody>\n",
       "    <tr>\n",
       "      <th>219665</th>\n",
       "      <td>9058646DF201F73CA39E9E339618BC6056A5DAF9A19B51...</td>\n",
       "    </tr>\n",
       "    <tr>\n",
       "      <th>133090</th>\n",
       "      <td>98D55B965A3037DCD069758ACBCAC2BE7CA3E2625E3DAB...</td>\n",
       "    </tr>\n",
       "    <tr>\n",
       "      <th>135892</th>\n",
       "      <td>673F42E45A249AF36004A89EDE682ABEE1A4D5B7DDA950...</td>\n",
       "    </tr>\n",
       "    <tr>\n",
       "      <th>144662</th>\n",
       "      <td>7565D81FA474B0A7DED8FECAEC68CDD0AED09FD1C482A8...</td>\n",
       "    </tr>\n",
       "    <tr>\n",
       "      <th>137009</th>\n",
       "      <td>F68DDD0BBCE3C079C81255F87C193DF4E9AAD54FA9EA8F...</td>\n",
       "    </tr>\n",
       "    <tr>\n",
       "      <th>...</th>\n",
       "      <td>...</td>\n",
       "    </tr>\n",
       "    <tr>\n",
       "      <th>166791</th>\n",
       "      <td>C023D600F9B356CDF347FD3FDF7A1821D429E80A02F9F9...</td>\n",
       "    </tr>\n",
       "    <tr>\n",
       "      <th>57838</th>\n",
       "      <td>42BEF68BBE44358E3183A2A8673B54C5DB1B8E62EEC295...</td>\n",
       "    </tr>\n",
       "    <tr>\n",
       "      <th>214202</th>\n",
       "      <td>819DA7E271F8BFAF89AC95F45B09E5BE72F9DE2A0513E6...</td>\n",
       "    </tr>\n",
       "    <tr>\n",
       "      <th>84232</th>\n",
       "      <td>0A54A91AB14DAB99BEAFC2C82632876DDE6120FF7038C1...</td>\n",
       "    </tr>\n",
       "    <tr>\n",
       "      <th>185373</th>\n",
       "      <td>D5EF6FE2013FD5B1B105ABBA043B4C3480CB5812AB2A24...</td>\n",
       "    </tr>\n",
       "  </tbody>\n",
       "</table>\n",
       "<p>3602 rows × 1 columns</p>\n",
       "</div>"
      ],
      "text/plain": [
       "                                             EMPLOYEE_GID\n",
       "219665  9058646DF201F73CA39E9E339618BC6056A5DAF9A19B51...\n",
       "133090  98D55B965A3037DCD069758ACBCAC2BE7CA3E2625E3DAB...\n",
       "135892  673F42E45A249AF36004A89EDE682ABEE1A4D5B7DDA950...\n",
       "144662  7565D81FA474B0A7DED8FECAEC68CDD0AED09FD1C482A8...\n",
       "137009  F68DDD0BBCE3C079C81255F87C193DF4E9AAD54FA9EA8F...\n",
       "...                                                   ...\n",
       "166791  C023D600F9B356CDF347FD3FDF7A1821D429E80A02F9F9...\n",
       "57838   42BEF68BBE44358E3183A2A8673B54C5DB1B8E62EEC295...\n",
       "214202  819DA7E271F8BFAF89AC95F45B09E5BE72F9DE2A0513E6...\n",
       "84232   0A54A91AB14DAB99BEAFC2C82632876DDE6120FF7038C1...\n",
       "185373  D5EF6FE2013FD5B1B105ABBA043B4C3480CB5812AB2A24...\n",
       "\n",
       "[3602 rows x 1 columns]"
      ]
     },
     "execution_count": 14,
     "metadata": {},
     "output_type": "execute_result"
    }
   ],
   "source": [
    "employeeMasked = pd.read_csv(data_folder+'EMP_ATTR_FULL.CSV',on_bad_lines='skip',dtype='unicode')\n",
    "\n",
    "isIn9_1and10_1 = actionTimes[(actionTimes[\"ACTIONTYPE\"].isin((9,10))) & (actionTimes[\"ACTIONREAS\"] == 1)][\"EMPLOYEE_GID\"].drop_duplicates() #9,1 & 10,1\n",
    "employeeMasked = employeeMasked.sort_values('_BIC_TERMDATE', ascending=True).drop_duplicates('EMPLOYEE_GID').sort_index()\n",
    "employeeMasked = employeeMasked[(employeeMasked[\"_BIC_VOLUNTRY\"].isnull()) & ~employeeMasked[\"_BIC_VOLUNTRY\"].isin(isIn9_1and10_1)]\n",
    "employeeMasked = employeeMasked[[\"EMPLOYEE_GID\"]]\n",
    "# employeeMasked\n",
    "\n",
    "employeeMasked3602=employeeMasked.sample(n=3602)\n",
    "employeeMasked3602.to_csv(data_folder+\"stillWithCompany3602.csv\")\n",
    "employeeMasked3602\n",
    "# employeeMasked.to_csv(\"stillWithCompany.csv\")\n",
    "# employeeMasked"
   ]
  },
  {
   "cell_type": "code",
   "execution_count": 7,
   "metadata": {
    "tags": []
   },
   "outputs": [],
   "source": [
    "mergedEndpoints = pd.merge(leaveChart, endPoint, on='EMPLOYEE_GID', how='left')\n",
    "mergedEndpoints['SUBTRACTED'] = (mergedEndpoints['CALDAY'] - mergedEndpoints['LIMIT'])\n",
    "months6 = mergedEndpoints[mergedEndpoints['SUBTRACTED'] > pd.Timedelta(\"-182 days\")] # 6 months\n",
    "months12 = mergedEndpoints[((mergedEndpoints['SUBTRACTED'] > pd.Timedelta(\"-365 days\")) & (mergedEndpoints['SUBTRACTED'] < pd.Timedelta(\"-182 days\")))] # 12 months"
   ]
  },
  {
   "cell_type": "code",
   "execution_count": 8,
   "metadata": {
    "tags": []
   },
   "outputs": [],
   "source": [
    "filter6 = months6[\"EMPLOYEE_GID\"].isin(employeeMasked3602[\"EMPLOYEE_GID\"])\n",
    "filter12 = months12[\"EMPLOYEE_GID\"].isin(employeeMasked3602[\"EMPLOYEE_GID\"])"
   ]
  },
  {
   "cell_type": "code",
   "execution_count": 10,
   "metadata": {
    "tags": []
   },
   "outputs": [],
   "source": [
    "inCompany6 = months6[filter6]\n",
    "inCompany12 = months12[filter12]\n",
    "inCompany6.to_csv(data_folder+\"stillWithCompany_6m.csv\")\n",
    "inCompany12.to_csv(data_folder+\"stillWithCompany_12m.csv\")"
   ]
  },
  {
   "cell_type": "code",
   "execution_count": 11,
   "metadata": {
    "tags": []
   },
   "outputs": [
    {
     "data": {
      "text/plain": [
       "EMPLOYEE_GID             object\n",
       "CALDAY           datetime64[ns]\n",
       "REPTT                    object\n",
       "LIMIT            datetime64[ns]\n",
       "SUBTRACTED      timedelta64[ns]\n",
       "dtype: object"
      ]
     },
     "execution_count": 11,
     "metadata": {},
     "output_type": "execute_result"
    }
   ],
   "source": [
    "inCompany6.dtypes"
   ]
  },
  {
   "cell_type": "markdown",
   "metadata": {},
   "source": [
    "### Plotting"
   ]
  },
  {
   "cell_type": "code",
   "execution_count": 22,
   "metadata": {
    "tags": []
   },
   "outputs": [
    {
     "name": "stdout",
     "output_type": "stream",
     "text": [
      "Collecting jupyter-dash\n",
      "  Downloading jupyter_dash-0.4.2-py3-none-any.whl (23 kB)\n",
      "Collecting dash\n",
      "  Downloading dash-2.10.0-py3-none-any.whl (10.3 MB)\n",
      "\u001b[2K     \u001b[90m━━━━━━━━━━━━━━━━━━━━━━━━━━━━━━━━━━━━━━━━\u001b[0m \u001b[32m10.3/10.3 MB\u001b[0m \u001b[31m7.1 MB/s\u001b[0m eta \u001b[36m0:00:00\u001b[0m00:01\u001b[0m00:01\u001b[0m\n",
      "\u001b[?25hRequirement already satisfied: requests in /opt/homebrew/lib/python3.11/site-packages (from jupyter-dash) (2.28.2)\n",
      "Collecting flask\n",
      "  Downloading Flask-2.3.2-py3-none-any.whl (96 kB)\n",
      "\u001b[2K     \u001b[90m━━━━━━━━━━━━━━━━━━━━━━━━━━━━━━━━━━━━━━━━\u001b[0m \u001b[32m96.9/96.9 kB\u001b[0m \u001b[31m6.0 MB/s\u001b[0m eta \u001b[36m0:00:00\u001b[0m\n",
      "\u001b[?25hCollecting retrying\n",
      "  Downloading retrying-1.3.4-py3-none-any.whl (11 kB)\n",
      "Requirement already satisfied: ipython in /opt/homebrew/lib/python3.11/site-packages (from jupyter-dash) (8.12.0)\n",
      "Requirement already satisfied: ipykernel in /opt/homebrew/lib/python3.11/site-packages (from jupyter-dash) (6.22.0)\n",
      "Collecting ansi2html\n",
      "  Downloading ansi2html-1.8.0-py3-none-any.whl (16 kB)\n",
      "Requirement already satisfied: nest-asyncio in /opt/homebrew/lib/python3.11/site-packages (from jupyter-dash) (1.5.6)\n",
      "Collecting flask\n",
      "  Downloading Flask-2.2.3-py3-none-any.whl (101 kB)\n",
      "\u001b[2K     \u001b[90m━━━━━━━━━━━━━━━━━━━━━━━━━━━━━━━━━━━━━━━\u001b[0m \u001b[32m101.8/101.8 kB\u001b[0m \u001b[31m7.7 MB/s\u001b[0m eta \u001b[36m0:00:00\u001b[0m\n",
      "\u001b[?25hCollecting Werkzeug<=2.2.3\n",
      "  Downloading Werkzeug-2.2.3-py3-none-any.whl (233 kB)\n",
      "\u001b[2K     \u001b[90m━━━━━━━━━━━━━━━━━━━━━━━━━━━━━━━━━━━━━━━\u001b[0m \u001b[32m233.6/233.6 kB\u001b[0m \u001b[31m3.4 MB/s\u001b[0m eta \u001b[36m0:00:00\u001b[0ma \u001b[36m0:00:01\u001b[0m\n",
      "\u001b[?25hCollecting plotly>=5.0.0\n",
      "  Downloading plotly-5.14.1-py2.py3-none-any.whl (15.3 MB)\n",
      "\u001b[2K     \u001b[90m━━━━━━━━━━━━━━━━━━━━━━━━━━━━━━━━━━━━━━━━\u001b[0m \u001b[32m15.3/15.3 MB\u001b[0m \u001b[31m7.3 MB/s\u001b[0m eta \u001b[36m0:00:00\u001b[0m00:01\u001b[0m00:01\u001b[0m\n",
      "\u001b[?25hCollecting dash-html-components==2.0.0\n",
      "  Downloading dash_html_components-2.0.0-py3-none-any.whl (4.1 kB)\n",
      "Collecting dash-core-components==2.0.0\n",
      "  Downloading dash_core_components-2.0.0-py3-none-any.whl (3.8 kB)\n",
      "Collecting dash-table==5.0.0\n",
      "  Downloading dash_table-5.0.0-py3-none-any.whl (3.9 kB)\n",
      "Requirement already satisfied: Jinja2>=3.0 in /opt/homebrew/lib/python3.11/site-packages (from flask->jupyter-dash) (3.1.2)\n",
      "Collecting itsdangerous>=2.0\n",
      "  Downloading itsdangerous-2.1.2-py3-none-any.whl (15 kB)\n",
      "Collecting click>=8.0\n",
      "  Downloading click-8.1.3-py3-none-any.whl (96 kB)\n",
      "\u001b[2K     \u001b[90m━━━━━━━━━━━━━━━━━━━━━━━━━━━━━━━━━━━━━━━━\u001b[0m \u001b[32m96.6/96.6 kB\u001b[0m \u001b[31m7.5 MB/s\u001b[0m eta \u001b[36m0:00:00\u001b[0m\n",
      "\u001b[?25hRequirement already satisfied: appnope in /opt/homebrew/lib/python3.11/site-packages (from ipykernel->jupyter-dash) (0.1.3)\n",
      "Requirement already satisfied: comm>=0.1.1 in /opt/homebrew/lib/python3.11/site-packages (from ipykernel->jupyter-dash) (0.1.3)\n",
      "Requirement already satisfied: debugpy>=1.6.5 in /opt/homebrew/lib/python3.11/site-packages (from ipykernel->jupyter-dash) (1.6.7)\n",
      "Requirement already satisfied: jupyter-client>=6.1.12 in /opt/homebrew/lib/python3.11/site-packages (from ipykernel->jupyter-dash) (8.2.0)\n",
      "Requirement already satisfied: jupyter-core!=5.0.*,>=4.12 in /opt/homebrew/lib/python3.11/site-packages (from ipykernel->jupyter-dash) (5.3.0)\n",
      "Requirement already satisfied: matplotlib-inline>=0.1 in /opt/homebrew/lib/python3.11/site-packages (from ipykernel->jupyter-dash) (0.1.6)\n",
      "Requirement already satisfied: packaging in /opt/homebrew/lib/python3.11/site-packages (from ipykernel->jupyter-dash) (23.1)\n",
      "Requirement already satisfied: psutil in /opt/homebrew/lib/python3.11/site-packages (from ipykernel->jupyter-dash) (5.9.5)\n",
      "Requirement already satisfied: pyzmq>=20 in /opt/homebrew/lib/python3.11/site-packages (from ipykernel->jupyter-dash) (25.0.2)\n",
      "Requirement already satisfied: tornado>=6.1 in /opt/homebrew/lib/python3.11/site-packages (from ipykernel->jupyter-dash) (6.3)\n",
      "Requirement already satisfied: traitlets>=5.4.0 in /opt/homebrew/lib/python3.11/site-packages (from ipykernel->jupyter-dash) (5.9.0)\n",
      "Requirement already satisfied: backcall in /opt/homebrew/lib/python3.11/site-packages (from ipython->jupyter-dash) (0.2.0)\n",
      "Requirement already satisfied: decorator in /opt/homebrew/lib/python3.11/site-packages (from ipython->jupyter-dash) (5.1.1)\n",
      "Requirement already satisfied: jedi>=0.16 in /opt/homebrew/lib/python3.11/site-packages (from ipython->jupyter-dash) (0.18.2)\n",
      "Requirement already satisfied: pickleshare in /opt/homebrew/lib/python3.11/site-packages (from ipython->jupyter-dash) (0.7.5)\n",
      "Requirement already satisfied: prompt-toolkit!=3.0.37,<3.1.0,>=3.0.30 in /opt/homebrew/lib/python3.11/site-packages (from ipython->jupyter-dash) (3.0.38)\n",
      "Requirement already satisfied: pygments>=2.4.0 in /opt/homebrew/lib/python3.11/site-packages (from ipython->jupyter-dash) (2.15.1)\n",
      "Requirement already satisfied: stack-data in /opt/homebrew/lib/python3.11/site-packages (from ipython->jupyter-dash) (0.6.2)\n",
      "Requirement already satisfied: pexpect>4.3 in /opt/homebrew/lib/python3.11/site-packages (from ipython->jupyter-dash) (4.8.0)\n",
      "Requirement already satisfied: charset-normalizer<4,>=2 in /opt/homebrew/lib/python3.11/site-packages (from requests->jupyter-dash) (3.1.0)\n",
      "Requirement already satisfied: idna<4,>=2.5 in /opt/homebrew/lib/python3.11/site-packages (from requests->jupyter-dash) (3.4)\n",
      "Requirement already satisfied: urllib3<1.27,>=1.21.1 in /opt/homebrew/lib/python3.11/site-packages (from requests->jupyter-dash) (1.26.15)\n",
      "Requirement already satisfied: certifi>=2017.4.17 in /opt/homebrew/lib/python3.11/site-packages (from requests->jupyter-dash) (2022.12.7)\n",
      "Requirement already satisfied: six>=1.7.0 in /opt/homebrew/lib/python3.11/site-packages (from retrying->jupyter-dash) (1.16.0)\n",
      "Requirement already satisfied: parso<0.9.0,>=0.8.0 in /opt/homebrew/lib/python3.11/site-packages (from jedi>=0.16->ipython->jupyter-dash) (0.8.3)\n",
      "Requirement already satisfied: MarkupSafe>=2.0 in /opt/homebrew/lib/python3.11/site-packages (from Jinja2>=3.0->flask->jupyter-dash) (2.1.2)\n",
      "Requirement already satisfied: python-dateutil>=2.8.2 in /opt/homebrew/lib/python3.11/site-packages (from jupyter-client>=6.1.12->ipykernel->jupyter-dash) (2.8.2)\n",
      "Requirement already satisfied: platformdirs>=2.5 in /opt/homebrew/lib/python3.11/site-packages (from jupyter-core!=5.0.*,>=4.12->ipykernel->jupyter-dash) (3.2.0)\n",
      "Requirement already satisfied: ptyprocess>=0.5 in /opt/homebrew/lib/python3.11/site-packages (from pexpect>4.3->ipython->jupyter-dash) (0.7.0)\n",
      "Collecting tenacity>=6.2.0\n",
      "  Downloading tenacity-8.2.2-py3-none-any.whl (24 kB)\n",
      "Requirement already satisfied: wcwidth in /opt/homebrew/lib/python3.11/site-packages (from prompt-toolkit!=3.0.37,<3.1.0,>=3.0.30->ipython->jupyter-dash) (0.2.6)\n",
      "Requirement already satisfied: executing>=1.2.0 in /opt/homebrew/lib/python3.11/site-packages (from stack-data->ipython->jupyter-dash) (1.2.0)\n",
      "Requirement already satisfied: asttokens>=2.1.0 in /opt/homebrew/lib/python3.11/site-packages (from stack-data->ipython->jupyter-dash) (2.2.1)\n",
      "Requirement already satisfied: pure-eval in /opt/homebrew/lib/python3.11/site-packages (from stack-data->ipython->jupyter-dash) (0.2.2)\n",
      "Installing collected packages: dash-table, dash-html-components, dash-core-components, Werkzeug, tenacity, retrying, itsdangerous, click, ansi2html, plotly, flask, dash, jupyter-dash\n",
      "Successfully installed Werkzeug-2.2.3 ansi2html-1.8.0 click-8.1.3 dash-2.10.0 dash-core-components-2.0.0 dash-html-components-2.0.0 dash-table-5.0.0 flask-2.2.3 itsdangerous-2.1.2 jupyter-dash-0.4.2 plotly-5.14.1 retrying-1.3.4 tenacity-8.2.2\n",
      "\n",
      "\u001b[1m[\u001b[0m\u001b[34;49mnotice\u001b[0m\u001b[1;39;49m]\u001b[0m\u001b[39;49m A new release of pip is available: \u001b[0m\u001b[31;49m23.0.1\u001b[0m\u001b[39;49m -> \u001b[0m\u001b[32;49m23.1.2\u001b[0m\n",
      "\u001b[1m[\u001b[0m\u001b[34;49mnotice\u001b[0m\u001b[1;39;49m]\u001b[0m\u001b[39;49m To update, run: \u001b[0m\u001b[32;49mpython3.11 -m pip install --upgrade pip\u001b[0m\n"
     ]
    }
   ],
   "source": [
    "!pip3 install jupyter-dash"
   ]
  },
  {
   "cell_type": "code",
   "execution_count": 23,
   "metadata": {
    "tags": []
   },
   "outputs": [
    {
     "name": "stdout",
     "output_type": "stream",
     "text": [
      "Requirement already satisfied: plotly==5.14.1 in /opt/homebrew/lib/python3.11/site-packages (5.14.1)\n",
      "Requirement already satisfied: tenacity>=6.2.0 in /opt/homebrew/lib/python3.11/site-packages (from plotly==5.14.1) (8.2.2)\n",
      "Requirement already satisfied: packaging in /opt/homebrew/lib/python3.11/site-packages (from plotly==5.14.1) (23.1)\n",
      "\n",
      "\u001b[1m[\u001b[0m\u001b[34;49mnotice\u001b[0m\u001b[1;39;49m]\u001b[0m\u001b[39;49m A new release of pip is available: \u001b[0m\u001b[31;49m23.0.1\u001b[0m\u001b[39;49m -> \u001b[0m\u001b[32;49m23.1.2\u001b[0m\n",
      "\u001b[1m[\u001b[0m\u001b[34;49mnotice\u001b[0m\u001b[1;39;49m]\u001b[0m\u001b[39;49m To update, run: \u001b[0m\u001b[32;49mpython3.11 -m pip install --upgrade pip\u001b[0m\n"
     ]
    }
   ],
   "source": [
    "!pip3 install plotly==5.14.1"
   ]
  },
  {
   "cell_type": "code",
   "execution_count": null,
   "metadata": {},
   "outputs": [],
   "source": []
  }
 ],
 "metadata": {
  "kernelspec": {
   "display_name": "Python 3 (ipykernel)",
   "language": "python",
   "name": "python3"
  },
  "language_info": {
   "codemirror_mode": {
    "name": "ipython",
    "version": 3
   },
   "file_extension": ".py",
   "mimetype": "text/x-python",
   "name": "python",
   "nbconvert_exporter": "python",
   "pygments_lexer": "ipython3",
   "version": "3.11.3"
  }
 },
 "nbformat": 4,
 "nbformat_minor": 4
}
