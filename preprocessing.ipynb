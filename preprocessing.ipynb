{
 "cells": [
  {
   "cell_type": "markdown",
   "id": "ba3e0c03-785b-48a0-90fa-76b4a704d0ef",
   "metadata": {
    "tags": []
   },
   "source": [
    "# TABLE EMP_ACTION "
   ]
  },
  {
   "cell_type": "code",
   "execution_count": 1,
   "id": "7afde183-26f8-4908-8f2c-a72f4d7eec1a",
   "metadata": {
    "tags": []
   },
   "outputs": [],
   "source": [
    "#========================================================================================\n",
    "# import needed libraries/packages \n",
    "#\n",
    "# Note:  we use boto3 which is a Python SDK for AWS.  It allows you to create,\n",
    "# configure and manage AWS resources from your Python scripts.  \n",
    "#========================================================================================\n",
    "import os\n",
    "import pandas as pd\n",
    "from io import StringIO # python3; python2: BytesIO \n",
    "import boto3\n",
    "import numpy as np"
   ]
  },
  {
   "cell_type": "code",
   "execution_count": 11,
   "id": "05be1b3c-f956-4bb9-98bb-c84d037a73e0",
   "metadata": {
    "tags": []
   },
   "outputs": [
    {
     "name": "stderr",
     "output_type": "stream",
     "text": [
      "/var/folders/fs/5rddcscd7218ydcqdwg75vq00000gn/T/ipykernel_29132/1779061230.py:11: DtypeWarning: Columns (3,21,50) have mixed types. Specify dtype option on import or set low_memory=False.\n",
      "  action_df = pd.read_csv(data)\n"
     ]
    }
   ],
   "source": [
    "#========================================================================================\n",
    "# Identify the  S3 bucket, and the file(s) to download\n",
    "#========================================================================================\n",
    "# bucket_name = 's3://sagemaker-qut/'\n",
    "file_path  = '/Users/asifrezachowdhury/Library/CloudStorage/OneDrive-Personal/Academics/QUT Academics/Semester 2-2/IFN711 Project/Project/data/'\n",
    "\n",
    "# file_action= file_path + \"EMP_ACTIONS.CSV\" \n",
    "# data = \"{}{}\".format(bucket_name,file_action)\n",
    "data = file_path + \"EMP_ACTIONS.CSV\" \n",
    "action_df = pd.read_csv(data)\n",
    "#action_df "
   ]
  },
  {
   "cell_type": "code",
   "execution_count": 12,
   "id": "b4efc204-395d-429d-9b8f-196ce20e3acc",
   "metadata": {
    "tags": []
   },
   "outputs": [
    {
     "name": "stdout",
     "output_type": "stream",
     "text": [
      "<class 'pandas.core.frame.DataFrame'>\n",
      "RangeIndex: 20170 entries, 0 to 20169\n",
      "Data columns (total 55 columns):\n",
      " #   Column             Non-Null Count  Dtype  \n",
      "---  ------             --------------  -----  \n",
      " 0   EMPLOYEE_GID       20170 non-null  object \n",
      " 1   EMPLOYEE_RID       20170 non-null  object \n",
      " 2   CALDAY             20170 non-null  int64  \n",
      " 3   ACTIONTYPE         20170 non-null  object \n",
      " 4   ACTIONREAS         15277 non-null  float64\n",
      " 5   EMPLSTATUS         20170 non-null  int64  \n",
      " 6   _BIC_ACTNCOUNT     20170 non-null  int64  \n",
      " 7   _BIC_ACTNHIRE      20170 non-null  int64  \n",
      " 8   _BIC_ACTNTERMN     20170 non-null  int64  \n",
      " 9   _BIC_WEEK          20170 non-null  int64  \n",
      " 10  WEEKDAY1           20170 non-null  int64  \n",
      " 11  CALMONTH           20170 non-null  int64  \n",
      " 12  CALMONTH2          20170 non-null  int64  \n",
      " 13  CALQUART1          20170 non-null  int64  \n",
      " 14  CALQUARTER         20170 non-null  int64  \n",
      " 15  CALWEEK            20170 non-null  int64  \n",
      " 16  CALYEAR            20170 non-null  int64  \n",
      " 17  BUS_AREA           20168 non-null  object \n",
      " 18  COMP_CODE          20168 non-null  float64\n",
      " 19  CO_MST_AR          20168 non-null  object \n",
      " 20  MAST_CCTR          20165 non-null  float64\n",
      " 21  EMPLCNTRCT         4411 non-null   object \n",
      " 22  COUNTRY_ID         20169 non-null  float64\n",
      " 23  PAYRL_AREA         20168 non-null  object \n",
      " 24  PERS_SAREA         20168 non-null  object \n",
      " 25  PERS_AREA          20168 non-null  object \n",
      " 26  EMPLGROUP          20168 non-null  float64\n",
      " 27  EMPLSGROUP         20168 non-null  float64\n",
      " 28  ORGUNIT            20170 non-null  int64  \n",
      " 29  _BIC_DIVISION      19965 non-null  object \n",
      " 30  _BIC_HRFUNKT       20145 non-null  object \n",
      " 31  _BIC_EMPL_CAT      20169 non-null  object \n",
      " 32  _BIC_EMPISBOSS     20168 non-null  object \n",
      " 33  _BIC_ISSLGEXCO     275 non-null    object \n",
      " 34  _BIC_MGRHIELVL     20169 non-null  object \n",
      " 35  _BIC_EMPL_MNG_GID  11326 non-null  object \n",
      " 36  _BIC_EMPL_MNG_RID  11326 non-null  object \n",
      " 37  _BIC_HRLVE5WK      602 non-null    object \n",
      " 38  _BIC_HRRDOOPT      1465 non-null   object \n",
      " 39  _BIC_HRSCHKZ       19721 non-null  object \n",
      " 40  _BIC_HRTEILK       1796 non-null   object \n",
      " 41  _BIC_HRWWEEK       1467 non-null   object \n",
      " 42  _BIC_ORGUNITL1     20170 non-null  int64  \n",
      " 43  _BIC_ORGUNITL2     20170 non-null  int64  \n",
      " 44  _BIC_ORGUNITL3     20170 non-null  int64  \n",
      " 45  _BIC_ORGUNITL4     20170 non-null  int64  \n",
      " 46  _BIC_ORGUNITL5     20170 non-null  int64  \n",
      " 47  _BIC_ORGUNITL6     20170 non-null  int64  \n",
      " 48  ENTRYDATE          20170 non-null  int64  \n",
      " 49  _BIC_TERMDATE      20170 non-null  int64  \n",
      " 50  _BIC_VOLUNTRY      2468 non-null   object \n",
      " 51  _BIC_AGEATACTN     20170 non-null  int64  \n",
      " 52  _BIC_TENURDAYS     20170 non-null  int64  \n",
      " 53  _BIC_TENURDAYC     20170 non-null  int64  \n",
      " 54  AGE                20170 non-null  int64  \n",
      "dtypes: float64(6), int64(26), object(23)\n",
      "memory usage: 8.5+ MB\n",
      "None\n"
     ]
    }
   ],
   "source": [
    "# Check table collumn datatype\n",
    "\n",
    "print(action_df.info())"
   ]
  },
  {
   "cell_type": "code",
   "execution_count": 13,
   "id": "3de8a90f-db63-43df-b5fd-09c723c35884",
   "metadata": {
    "tags": []
   },
   "outputs": [],
   "source": [
    "# Now we will  get specific col based on understand about business domain for resignation model\n",
    "sp_cols = [\"ACTIONTYPE\", \"ACTIONREAS\", \"AGE\", \"BUS_AREA\", \"_BIC_TERMDATE\"]\n",
    "action_df = action_df[sp_cols]"
   ]
  },
  {
   "cell_type": "code",
   "execution_count": 14,
   "id": "d6e36eca-6dee-434a-b770-4946dae5859a",
   "metadata": {
    "tags": []
   },
   "outputs": [
    {
     "name": "stdout",
     "output_type": "stream",
     "text": [
      "<class 'pandas.core.frame.DataFrame'>\n",
      "RangeIndex: 20170 entries, 0 to 20169\n",
      "Data columns (total 5 columns):\n",
      " #   Column         Non-Null Count  Dtype  \n",
      "---  ------         --------------  -----  \n",
      " 0   ACTIONTYPE     20170 non-null  object \n",
      " 1   ACTIONREAS     15277 non-null  float64\n",
      " 2   AGE            20170 non-null  int64  \n",
      " 3   BUS_AREA       20168 non-null  object \n",
      " 4   _BIC_TERMDATE  20170 non-null  int64  \n",
      "dtypes: float64(1), int64(2), object(2)\n",
      "memory usage: 788.0+ KB\n",
      "None\n"
     ]
    }
   ],
   "source": [
    "print(action_df.info())"
   ]
  },
  {
   "cell_type": "code",
   "execution_count": 15,
   "id": "ea846f8e-9fe2-402f-a6a3-fea2a59c3716",
   "metadata": {
    "tags": []
   },
   "outputs": [],
   "source": [
    "# Checking for '?' as 'Invalid/Unknown'\n",
    "def check_invalid_value(invalid_value):\n",
    "    for col in action_df.columns:\n",
    "        if action_df[col].dtype == object:\n",
    "            print(col,action_df[col][action_df[col] == invalid_value].count())"
   ]
  },
  {
   "cell_type": "code",
   "execution_count": 16,
   "id": "0b2b4447-edfc-4276-8529-ee439b789be9",
   "metadata": {
    "tags": []
   },
   "outputs": [
    {
     "name": "stdout",
     "output_type": "stream",
     "text": [
      "ACTIONTYPE 0\n",
      "BUS_AREA 0\n",
      "ACTIONTYPE 0\n",
      "BUS_AREA 0\n",
      "ACTIONTYPE 0\n",
      "BUS_AREA 0\n",
      "ACTIONTYPE 0\n",
      "BUS_AREA 0\n"
     ]
    }
   ],
   "source": [
    "check_invalid_value('null')\n",
    "check_invalid_value('')\n",
    "check_invalid_value('invalid')\n",
    "check_invalid_value(np.NaN)"
   ]
  },
  {
   "cell_type": "markdown",
   "id": "2dd8becf-6281-41bb-a82d-ec959bac9381",
   "metadata": {
    "tags": []
   },
   "source": [
    "# Pre-processing dataset"
   ]
  },
  {
   "cell_type": "code",
   "execution_count": 17,
   "id": "dbc34dec-0e4f-4d6f-bcbd-0080d1159889",
   "metadata": {
    "tags": []
   },
   "outputs": [],
   "source": [
    "# Get ACTIONTYPE as 9 and 10 only\n",
    "# Action type 9 and 10 should both be considered termination .\n",
    "# 9 is through SAP 10 is manual.\n",
    "\n",
    "#action_df_filtered= action_df.loc[(action_df['ACTIONTYPE'] == 9) | (action_df['ACTIONTYPE'] == 10) & (action_df['ACTIONREAS'] == 1.0)]"
   ]
  },
  {
   "cell_type": "code",
   "execution_count": 18,
   "id": "93c51408-e393-4f90-b01a-477af7c048a6",
   "metadata": {
    "tags": []
   },
   "outputs": [],
   "source": [
    "action_df_filtered = action_df"
   ]
  },
  {
   "cell_type": "code",
   "execution_count": 19,
   "id": "1ee246ed-af46-47fb-8234-2276611ad709",
   "metadata": {
    "tags": []
   },
   "outputs": [
    {
     "data": {
      "text/plain": [
       "4893"
      ]
     },
     "execution_count": 19,
     "metadata": {},
     "output_type": "execute_result"
    }
   ],
   "source": [
    "# Check null value at ACTIONREAS col\n",
    "action_df_filtered['ACTIONREAS'].isnull().values.any()\n",
    "action_df_filtered['ACTIONREAS'].isnull().sum()"
   ]
  },
  {
   "cell_type": "code",
   "execution_count": 20,
   "id": "209afd4e-08b0-4ca0-93e7-61e9055797f5",
   "metadata": {
    "tags": []
   },
   "outputs": [],
   "source": [
    "mode = action_df_filtered['ACTIONREAS'].mode().values[0]\n",
    "# replace NaN by mode value for string datatype\n",
    "action_df_filtered['ACTIONREAS'] = action_df_filtered['ACTIONREAS'].replace({np.NaN: mode})"
   ]
  },
  {
   "cell_type": "code",
   "execution_count": 21,
   "id": "68fcd9fc-0eb4-4acb-bbbd-15b43119173b",
   "metadata": {
    "tags": []
   },
   "outputs": [],
   "source": [
    "# ACTIONREAS variable should be in int64 data type. Before converting to integer, this variable is rounded to become integer.\n",
    "action_df_filtered['ACTIONREAS'] = action_df_filtered['ACTIONREAS'].apply(np.ceil)"
   ]
  },
  {
   "cell_type": "code",
   "execution_count": 22,
   "id": "3d2202c3-7d31-4ce0-a63a-94c8efdd9d6c",
   "metadata": {
    "tags": []
   },
   "outputs": [],
   "source": [
    "# By obervation, we sound in ACTIONTYPE have 'S1', 'S2'  as categorical datatype\n",
    "# So we will replace 'S1' => 98\n",
    "# 'S2' => 99 \n",
    "# For integer converting purpose later\n",
    "action_df_filtered['ACTIONTYPE'] = action_df_filtered['ACTIONTYPE'].replace({'S1': 98})\n",
    "action_df_filtered['ACTIONTYPE'] = action_df_filtered['ACTIONTYPE'].replace({'S2': 99})"
   ]
  },
  {
   "cell_type": "code",
   "execution_count": 23,
   "id": "88171279-b012-4ae1-891b-c2bcb65e300d",
   "metadata": {
    "tags": []
   },
   "outputs": [
    {
     "name": "stdout",
     "output_type": "stream",
     "text": [
      "********* Check data type BEFORE correcting *********\n",
      "***ACTIONREAS***\n",
      "float64\n",
      "***ACTIONTYPE***\n",
      "object\n"
     ]
    }
   ],
   "source": [
    "print('********* Check data type BEFORE correcting *********')\n",
    "print('***ACTIONREAS***')\n",
    "print(action_df_filtered.ACTIONREAS.dtype)\n",
    "print('***ACTIONTYPE***')\n",
    "print(action_df_filtered.ACTIONTYPE.dtype)"
   ]
  },
  {
   "cell_type": "code",
   "execution_count": 24,
   "id": "de1fde5f-ef8a-4869-b707-f54001a22e25",
   "metadata": {
    "tags": []
   },
   "outputs": [],
   "source": [
    "action_df_filtered[\"ACTIONREAS\"] = action_df_filtered[\"ACTIONREAS\"].astype('int64')\n",
    "action_df_filtered[\"ACTIONTYPE\"] = action_df_filtered[\"ACTIONTYPE\"].astype('int64')"
   ]
  },
  {
   "cell_type": "code",
   "execution_count": 25,
   "id": "a58c9fd4-07ba-44bd-92ad-dc8929df2df3",
   "metadata": {
    "tags": []
   },
   "outputs": [
    {
     "name": "stdout",
     "output_type": "stream",
     "text": [
      "<class 'pandas.core.frame.DataFrame'>\n",
      "RangeIndex: 20170 entries, 0 to 20169\n",
      "Data columns (total 5 columns):\n",
      " #   Column         Non-Null Count  Dtype \n",
      "---  ------         --------------  ----- \n",
      " 0   ACTIONTYPE     20170 non-null  int64 \n",
      " 1   ACTIONREAS     20170 non-null  int64 \n",
      " 2   AGE            20170 non-null  int64 \n",
      " 3   BUS_AREA       20168 non-null  object\n",
      " 4   _BIC_TERMDATE  20170 non-null  int64 \n",
      "dtypes: int64(4), object(1)\n",
      "memory usage: 788.0+ KB\n",
      "None\n"
     ]
    }
   ],
   "source": [
    "print(action_df_filtered.info())"
   ]
  },
  {
   "cell_type": "markdown",
   "id": "9aaf9af3-1acc-4a53-9ac5-d90781f0930a",
   "metadata": {},
   "source": [
    "# Explore data"
   ]
  },
  {
   "cell_type": "code",
   "execution_count": 26,
   "id": "2cefab49-6741-4819-a014-159285afe95b",
   "metadata": {
    "tags": []
   },
   "outputs": [],
   "source": [
    "# To ignore any future warnings\n",
    "import warnings\n",
    "warnings.filterwarnings(\"ignore\")\n",
    "\n",
    "import matplotlib.pyplot as plt\n",
    "import seaborn as sns"
   ]
  },
  {
   "cell_type": "code",
   "execution_count": 27,
   "id": "9be88b3f-364b-4f78-9e2b-aedbab2842ef",
   "metadata": {
    "tags": []
   },
   "outputs": [],
   "source": [
    "action_df_filtered_ex = action_df_filtered.select_dtypes(include=[np.number])"
   ]
  },
  {
   "cell_type": "code",
   "execution_count": 28,
   "id": "39ac94c6-ec5c-49d0-af98-07dda7f810d9",
   "metadata": {
    "tags": []
   },
   "outputs": [],
   "source": [
    "def check_describe(data_frame, col_name):\n",
    "    print(\"\\n===============================\")\n",
    "    print(\"Check Describe of: \" + col_name)\n",
    "    print(\"===============================\")\n",
    "    print(data_frame[col_name].describe())\n",
    "    \n",
    "    print(\"\\n===============================\")\n",
    "    print(\"Check Mode of: \" + col_name)\n",
    "    print(\"===============================\")\n",
    "    print(data_frame[col_name].mode())"
   ]
  },
  {
   "cell_type": "code",
   "execution_count": 29,
   "id": "e11e7144-3e49-4b97-a9d3-0127bc5747f1",
   "metadata": {
    "tags": []
   },
   "outputs": [
    {
     "name": "stdout",
     "output_type": "stream",
     "text": [
      "\n",
      "===============================\n",
      "Check Describe of: ACTIONREAS\n",
      "===============================\n",
      "count    20170.000000\n",
      "mean         2.211750\n",
      "std          2.543261\n",
      "min          1.000000\n",
      "25%          2.000000\n",
      "50%          2.000000\n",
      "75%          2.000000\n",
      "max         99.000000\n",
      "Name: ACTIONREAS, dtype: float64\n",
      "\n",
      "===============================\n",
      "Check Mode of: ACTIONREAS\n",
      "===============================\n",
      "0    2\n",
      "Name: ACTIONREAS, dtype: int64\n",
      "\n",
      "===============================\n",
      "Check Describe of: ACTIONTYPE\n",
      "===============================\n",
      "count    20170.000000\n",
      "mean        16.203322\n",
      "std         21.992996\n",
      "min          1.000000\n",
      "25%          4.000000\n",
      "50%          9.000000\n",
      "75%         16.000000\n",
      "max         99.000000\n",
      "Name: ACTIONTYPE, dtype: float64\n",
      "\n",
      "===============================\n",
      "Check Mode of: ACTIONTYPE\n",
      "===============================\n",
      "0    16\n",
      "Name: ACTIONTYPE, dtype: int64\n"
     ]
    }
   ],
   "source": [
    "check_describe(action_df_filtered, 'ACTIONREAS')\n",
    "check_describe(action_df_filtered, 'ACTIONTYPE')"
   ]
  },
  {
   "cell_type": "markdown",
   "id": "fa56023c-e7d4-4d1b-ba36-737cb80ee666",
   "metadata": {},
   "source": [
    "Skewness\n",
    "ACTIONREAS\n",
    "=> Mode (1) < Median (1) < Mean (9)\n",
    "=> Skewness positive  Zero Skewness so ACTIONTYPE is normal distribution\n",
    "\n",
    "ACTIONTYPE\n",
    "=> Median (9) < Mode (16)  < Mean (16.2)\n",
    "=> Skewness positive"
   ]
  },
  {
   "cell_type": "code",
   "execution_count": 33,
   "id": "92df8eff-1076-4534-81e0-6bc1728ae6f4",
   "metadata": {
    "tags": []
   },
   "outputs": [],
   "source": [
    "# We need to understand more about skewness in ACTIONREAS\n",
    "def draw_plot(col_name):\n",
    "    dg = sns.distplot(action_df_filtered[col_name])\n",
    "    plt.show()"
   ]
  },
  {
   "cell_type": "code",
   "execution_count": 34,
   "id": "f6183ba5-08d4-40f9-ad45-08b4bacff939",
   "metadata": {
    "tags": []
   },
   "outputs": [
    {
     "name": "stdout",
     "output_type": "stream",
     "text": [
      "***ACTIONTYPE***\n"
     ]
    },
    {
     "data": {
      "image/png": "[encoded data removed]",
      "text/plain": [
       "<Figure size 640x480 with 1 Axes>"
      ]
     },
     "metadata": {},
     "output_type": "display_data"
    }
   ],
   "source": [
    "print(\"***ACTIONTYPE***\")\n",
    "draw_plot('ACTIONTYPE')"
   ]
  },
  {
   "cell_type": "code",
   "execution_count": 35,
   "id": "bdfbd8cb-6a34-43bb-aed6-e055869ccfc4",
   "metadata": {
    "tags": []
   },
   "outputs": [
    {
     "ename": "TypeError",
     "evalue": "could not convert string to float: 'BNE'",
     "output_type": "error",
     "traceback": [
      "\u001b[0;31m---------------------------------------------------------------------------\u001b[0m",
      "\u001b[0;31mValueError\u001b[0m                                Traceback (most recent call last)",
      "File \u001b[0;32m/opt/homebrew/lib/python3.11/site-packages/pandas/core/nanops.py:96\u001b[0m, in \u001b[0;36mdisallow.__call__.<locals>._f\u001b[0;34m(*args, **kwargs)\u001b[0m\n\u001b[1;32m     95\u001b[0m     \u001b[38;5;28;01mwith\u001b[39;00m np\u001b[38;5;241m.\u001b[39merrstate(invalid\u001b[38;5;241m=\u001b[39m\u001b[38;5;124m\"\u001b[39m\u001b[38;5;124mignore\u001b[39m\u001b[38;5;124m\"\u001b[39m):\n\u001b[0;32m---> 96\u001b[0m         \u001b[38;5;28;01mreturn\u001b[39;00m \u001b[43mf\u001b[49m\u001b[43m(\u001b[49m\u001b[38;5;241;43m*\u001b[39;49m\u001b[43margs\u001b[49m\u001b[43m,\u001b[49m\u001b[43m \u001b[49m\u001b[38;5;241;43m*\u001b[39;49m\u001b[38;5;241;43m*\u001b[39;49m\u001b[43mkwargs\u001b[49m\u001b[43m)\u001b[49m\n\u001b[1;32m     97\u001b[0m \u001b[38;5;28;01mexcept\u001b[39;00m \u001b[38;5;167;01mValueError\u001b[39;00m \u001b[38;5;28;01mas\u001b[39;00m e:\n\u001b[1;32m     98\u001b[0m     \u001b[38;5;66;03m# we want to transform an object array\u001b[39;00m\n\u001b[1;32m     99\u001b[0m     \u001b[38;5;66;03m# ValueError message to the more typical TypeError\u001b[39;00m\n\u001b[1;32m    100\u001b[0m     \u001b[38;5;66;03m# e.g. this is normally a disallowed function on\u001b[39;00m\n\u001b[1;32m    101\u001b[0m     \u001b[38;5;66;03m# object arrays that contain strings\u001b[39;00m\n",
      "File \u001b[0;32m/opt/homebrew/lib/python3.11/site-packages/pandas/core/nanops.py:494\u001b[0m, in \u001b[0;36mmaybe_operate_rowwise.<locals>.newfunc\u001b[0;34m(values, axis, **kwargs)\u001b[0m\n\u001b[1;32m    492\u001b[0m     \u001b[38;5;28;01mreturn\u001b[39;00m np\u001b[38;5;241m.\u001b[39marray(results)\n\u001b[0;32m--> 494\u001b[0m \u001b[38;5;28;01mreturn\u001b[39;00m \u001b[43mfunc\u001b[49m\u001b[43m(\u001b[49m\u001b[43mvalues\u001b[49m\u001b[43m,\u001b[49m\u001b[43m \u001b[49m\u001b[43maxis\u001b[49m\u001b[38;5;241;43m=\u001b[39;49m\u001b[43maxis\u001b[49m\u001b[43m,\u001b[49m\u001b[43m \u001b[49m\u001b[38;5;241;43m*\u001b[39;49m\u001b[38;5;241;43m*\u001b[39;49m\u001b[43mkwargs\u001b[49m\u001b[43m)\u001b[49m\n",
      "File \u001b[0;32m/opt/homebrew/lib/python3.11/site-packages/pandas/core/nanops.py:1240\u001b[0m, in \u001b[0;36mnanskew\u001b[0;34m(values, axis, skipna, mask)\u001b[0m\n\u001b[1;32m   1239\u001b[0m \u001b[38;5;28;01mif\u001b[39;00m \u001b[38;5;129;01mnot\u001b[39;00m is_float_dtype(values\u001b[38;5;241m.\u001b[39mdtype):\n\u001b[0;32m-> 1240\u001b[0m     values \u001b[38;5;241m=\u001b[39m \u001b[43mvalues\u001b[49m\u001b[38;5;241;43m.\u001b[39;49m\u001b[43mastype\u001b[49m\u001b[43m(\u001b[49m\u001b[38;5;124;43m\"\u001b[39;49m\u001b[38;5;124;43mf8\u001b[39;49m\u001b[38;5;124;43m\"\u001b[39;49m\u001b[43m)\u001b[49m\n\u001b[1;32m   1241\u001b[0m     count \u001b[38;5;241m=\u001b[39m _get_counts(values\u001b[38;5;241m.\u001b[39mshape, mask, axis)\n",
      "\u001b[0;31mValueError\u001b[0m: could not convert string to float: 'BNE'",
      "\nThe above exception was the direct cause of the following exception:\n",
      "\u001b[0;31mTypeError\u001b[0m                                 Traceback (most recent call last)",
      "Cell \u001b[0;32mIn[35], line 1\u001b[0m\n\u001b[0;32m----> 1\u001b[0m \u001b[43maction_df_filtered\u001b[49m\u001b[38;5;241;43m.\u001b[39;49m\u001b[43mskew\u001b[49m\u001b[43m(\u001b[49m\u001b[43m)\u001b[49m\n",
      "File \u001b[0;32m/opt/homebrew/lib/python3.11/site-packages/pandas/core/generic.py:11584\u001b[0m, in \u001b[0;36mNDFrame._add_numeric_operations.<locals>.skew\u001b[0;34m(self, axis, skipna, numeric_only, **kwargs)\u001b[0m\n\u001b[1;32m  11567\u001b[0m \u001b[38;5;129m@doc\u001b[39m(\n\u001b[1;32m  11568\u001b[0m     _num_doc,\n\u001b[1;32m  11569\u001b[0m     desc\u001b[38;5;241m=\u001b[39m\u001b[38;5;124m\"\u001b[39m\u001b[38;5;124mReturn unbiased skew over requested axis.\u001b[39m\u001b[38;5;130;01m\\n\u001b[39;00m\u001b[38;5;130;01m\\n\u001b[39;00m\u001b[38;5;124mNormalized by N-1.\u001b[39m\u001b[38;5;124m\"\u001b[39m,\n\u001b[0;32m   (...)\u001b[0m\n\u001b[1;32m  11582\u001b[0m     \u001b[38;5;241m*\u001b[39m\u001b[38;5;241m*\u001b[39mkwargs,\n\u001b[1;32m  11583\u001b[0m ):\n\u001b[0;32m> 11584\u001b[0m     \u001b[38;5;28;01mreturn\u001b[39;00m \u001b[43mNDFrame\u001b[49m\u001b[38;5;241;43m.\u001b[39;49m\u001b[43mskew\u001b[49m\u001b[43m(\u001b[49m\u001b[38;5;28;43mself\u001b[39;49m\u001b[43m,\u001b[49m\u001b[43m \u001b[49m\u001b[43maxis\u001b[49m\u001b[43m,\u001b[49m\u001b[43m \u001b[49m\u001b[43mskipna\u001b[49m\u001b[43m,\u001b[49m\u001b[43m \u001b[49m\u001b[43mnumeric_only\u001b[49m\u001b[43m,\u001b[49m\u001b[43m \u001b[49m\u001b[38;5;241;43m*\u001b[39;49m\u001b[38;5;241;43m*\u001b[39;49m\u001b[43mkwargs\u001b[49m\u001b[43m)\u001b[49m\n",
      "File \u001b[0;32m/opt/homebrew/lib/python3.11/site-packages/pandas/core/generic.py:11230\u001b[0m, in \u001b[0;36mNDFrame.skew\u001b[0;34m(self, axis, skipna, numeric_only, **kwargs)\u001b[0m\n\u001b[1;32m  11223\u001b[0m \u001b[38;5;28;01mdef\u001b[39;00m \u001b[38;5;21mskew\u001b[39m(\n\u001b[1;32m  11224\u001b[0m     \u001b[38;5;28mself\u001b[39m,\n\u001b[1;32m  11225\u001b[0m     axis: Axis \u001b[38;5;241m|\u001b[39m \u001b[38;5;28;01mNone\u001b[39;00m \u001b[38;5;241m=\u001b[39m \u001b[38;5;241m0\u001b[39m,\n\u001b[0;32m   (...)\u001b[0m\n\u001b[1;32m  11228\u001b[0m     \u001b[38;5;241m*\u001b[39m\u001b[38;5;241m*\u001b[39mkwargs,\n\u001b[1;32m  11229\u001b[0m ) \u001b[38;5;241m-\u001b[39m\u001b[38;5;241m>\u001b[39m Series \u001b[38;5;241m|\u001b[39m \u001b[38;5;28mfloat\u001b[39m:\n\u001b[0;32m> 11230\u001b[0m     \u001b[38;5;28;01mreturn\u001b[39;00m \u001b[38;5;28;43mself\u001b[39;49m\u001b[38;5;241;43m.\u001b[39;49m\u001b[43m_stat_function\u001b[49m\u001b[43m(\u001b[49m\n\u001b[1;32m  11231\u001b[0m \u001b[43m        \u001b[49m\u001b[38;5;124;43m\"\u001b[39;49m\u001b[38;5;124;43mskew\u001b[39;49m\u001b[38;5;124;43m\"\u001b[39;49m\u001b[43m,\u001b[49m\u001b[43m \u001b[49m\u001b[43mnanops\u001b[49m\u001b[38;5;241;43m.\u001b[39;49m\u001b[43mnanskew\u001b[49m\u001b[43m,\u001b[49m\u001b[43m \u001b[49m\u001b[43maxis\u001b[49m\u001b[43m,\u001b[49m\u001b[43m \u001b[49m\u001b[43mskipna\u001b[49m\u001b[43m,\u001b[49m\u001b[43m \u001b[49m\u001b[43mnumeric_only\u001b[49m\u001b[43m,\u001b[49m\u001b[43m \u001b[49m\u001b[38;5;241;43m*\u001b[39;49m\u001b[38;5;241;43m*\u001b[39;49m\u001b[43mkwargs\u001b[49m\n\u001b[1;32m  11232\u001b[0m \u001b[43m    \u001b[49m\u001b[43m)\u001b[49m\n",
      "File \u001b[0;32m/opt/homebrew/lib/python3.11/site-packages/pandas/core/generic.py:11165\u001b[0m, in \u001b[0;36mNDFrame._stat_function\u001b[0;34m(self, name, func, axis, skipna, numeric_only, **kwargs)\u001b[0m\n\u001b[1;32m  11161\u001b[0m     nv\u001b[38;5;241m.\u001b[39mvalidate_stat_func((), kwargs, fname\u001b[38;5;241m=\u001b[39mname)\n\u001b[1;32m  11163\u001b[0m validate_bool_kwarg(skipna, \u001b[38;5;124m\"\u001b[39m\u001b[38;5;124mskipna\u001b[39m\u001b[38;5;124m\"\u001b[39m, none_allowed\u001b[38;5;241m=\u001b[39m\u001b[38;5;28;01mFalse\u001b[39;00m)\n\u001b[0;32m> 11165\u001b[0m \u001b[38;5;28;01mreturn\u001b[39;00m \u001b[38;5;28;43mself\u001b[39;49m\u001b[38;5;241;43m.\u001b[39;49m\u001b[43m_reduce\u001b[49m\u001b[43m(\u001b[49m\n\u001b[1;32m  11166\u001b[0m \u001b[43m    \u001b[49m\u001b[43mfunc\u001b[49m\u001b[43m,\u001b[49m\u001b[43m \u001b[49m\u001b[43mname\u001b[49m\u001b[38;5;241;43m=\u001b[39;49m\u001b[43mname\u001b[49m\u001b[43m,\u001b[49m\u001b[43m \u001b[49m\u001b[43maxis\u001b[49m\u001b[38;5;241;43m=\u001b[39;49m\u001b[43maxis\u001b[49m\u001b[43m,\u001b[49m\u001b[43m \u001b[49m\u001b[43mskipna\u001b[49m\u001b[38;5;241;43m=\u001b[39;49m\u001b[43mskipna\u001b[49m\u001b[43m,\u001b[49m\u001b[43m \u001b[49m\u001b[43mnumeric_only\u001b[49m\u001b[38;5;241;43m=\u001b[39;49m\u001b[43mnumeric_only\u001b[49m\n\u001b[1;32m  11167\u001b[0m \u001b[43m\u001b[49m\u001b[43m)\u001b[49m\n",
      "File \u001b[0;32m/opt/homebrew/lib/python3.11/site-packages/pandas/core/frame.py:10519\u001b[0m, in \u001b[0;36mDataFrame._reduce\u001b[0;34m(self, op, name, axis, skipna, numeric_only, filter_type, **kwds)\u001b[0m\n\u001b[1;32m  10515\u001b[0m     df \u001b[38;5;241m=\u001b[39m df\u001b[38;5;241m.\u001b[39mT\n\u001b[1;32m  10517\u001b[0m \u001b[38;5;66;03m# After possibly _get_data and transposing, we are now in the\u001b[39;00m\n\u001b[1;32m  10518\u001b[0m \u001b[38;5;66;03m#  simple case where we can use BlockManager.reduce\u001b[39;00m\n\u001b[0;32m> 10519\u001b[0m res \u001b[38;5;241m=\u001b[39m \u001b[43mdf\u001b[49m\u001b[38;5;241;43m.\u001b[39;49m\u001b[43m_mgr\u001b[49m\u001b[38;5;241;43m.\u001b[39;49m\u001b[43mreduce\u001b[49m\u001b[43m(\u001b[49m\u001b[43mblk_func\u001b[49m\u001b[43m)\u001b[49m\n\u001b[1;32m  10520\u001b[0m out \u001b[38;5;241m=\u001b[39m df\u001b[38;5;241m.\u001b[39m_constructor(res)\u001b[38;5;241m.\u001b[39miloc[\u001b[38;5;241m0\u001b[39m]\n\u001b[1;32m  10521\u001b[0m \u001b[38;5;28;01mif\u001b[39;00m out_dtype \u001b[38;5;129;01mis\u001b[39;00m \u001b[38;5;129;01mnot\u001b[39;00m \u001b[38;5;28;01mNone\u001b[39;00m:\n",
      "File \u001b[0;32m/opt/homebrew/lib/python3.11/site-packages/pandas/core/internals/managers.py:1534\u001b[0m, in \u001b[0;36mBlockManager.reduce\u001b[0;34m(self, func)\u001b[0m\n\u001b[1;32m   1532\u001b[0m res_blocks: \u001b[38;5;28mlist\u001b[39m[Block] \u001b[38;5;241m=\u001b[39m []\n\u001b[1;32m   1533\u001b[0m \u001b[38;5;28;01mfor\u001b[39;00m blk \u001b[38;5;129;01min\u001b[39;00m \u001b[38;5;28mself\u001b[39m\u001b[38;5;241m.\u001b[39mblocks:\n\u001b[0;32m-> 1534\u001b[0m     nbs \u001b[38;5;241m=\u001b[39m \u001b[43mblk\u001b[49m\u001b[38;5;241;43m.\u001b[39;49m\u001b[43mreduce\u001b[49m\u001b[43m(\u001b[49m\u001b[43mfunc\u001b[49m\u001b[43m)\u001b[49m\n\u001b[1;32m   1535\u001b[0m     res_blocks\u001b[38;5;241m.\u001b[39mextend(nbs)\n\u001b[1;32m   1537\u001b[0m index \u001b[38;5;241m=\u001b[39m Index([\u001b[38;5;28;01mNone\u001b[39;00m])  \u001b[38;5;66;03m# placeholder\u001b[39;00m\n",
      "File \u001b[0;32m/opt/homebrew/lib/python3.11/site-packages/pandas/core/internals/blocks.py:339\u001b[0m, in \u001b[0;36mBlock.reduce\u001b[0;34m(self, func)\u001b[0m\n\u001b[1;32m    333\u001b[0m \u001b[38;5;129m@final\u001b[39m\n\u001b[1;32m    334\u001b[0m \u001b[38;5;28;01mdef\u001b[39;00m \u001b[38;5;21mreduce\u001b[39m(\u001b[38;5;28mself\u001b[39m, func) \u001b[38;5;241m-\u001b[39m\u001b[38;5;241m>\u001b[39m \u001b[38;5;28mlist\u001b[39m[Block]:\n\u001b[1;32m    335\u001b[0m     \u001b[38;5;66;03m# We will apply the function and reshape the result into a single-row\u001b[39;00m\n\u001b[1;32m    336\u001b[0m     \u001b[38;5;66;03m#  Block with the same mgr_locs; squeezing will be done at a higher level\u001b[39;00m\n\u001b[1;32m    337\u001b[0m     \u001b[38;5;28;01massert\u001b[39;00m \u001b[38;5;28mself\u001b[39m\u001b[38;5;241m.\u001b[39mndim \u001b[38;5;241m==\u001b[39m \u001b[38;5;241m2\u001b[39m\n\u001b[0;32m--> 339\u001b[0m     result \u001b[38;5;241m=\u001b[39m \u001b[43mfunc\u001b[49m\u001b[43m(\u001b[49m\u001b[38;5;28;43mself\u001b[39;49m\u001b[38;5;241;43m.\u001b[39;49m\u001b[43mvalues\u001b[49m\u001b[43m)\u001b[49m\n\u001b[1;32m    341\u001b[0m     \u001b[38;5;28;01mif\u001b[39;00m \u001b[38;5;28mself\u001b[39m\u001b[38;5;241m.\u001b[39mvalues\u001b[38;5;241m.\u001b[39mndim \u001b[38;5;241m==\u001b[39m \u001b[38;5;241m1\u001b[39m:\n\u001b[1;32m    342\u001b[0m         \u001b[38;5;66;03m# TODO(EA2D): special case not needed with 2D EAs\u001b[39;00m\n\u001b[1;32m    343\u001b[0m         res_values \u001b[38;5;241m=\u001b[39m np\u001b[38;5;241m.\u001b[39marray([[result]])\n",
      "File \u001b[0;32m/opt/homebrew/lib/python3.11/site-packages/pandas/core/frame.py:10482\u001b[0m, in \u001b[0;36mDataFrame._reduce.<locals>.blk_func\u001b[0;34m(values, axis)\u001b[0m\n\u001b[1;32m  10480\u001b[0m     \u001b[38;5;28;01mreturn\u001b[39;00m values\u001b[38;5;241m.\u001b[39m_reduce(name, skipna\u001b[38;5;241m=\u001b[39mskipna, \u001b[38;5;241m*\u001b[39m\u001b[38;5;241m*\u001b[39mkwds)\n\u001b[1;32m  10481\u001b[0m \u001b[38;5;28;01melse\u001b[39;00m:\n\u001b[0;32m> 10482\u001b[0m     \u001b[38;5;28;01mreturn\u001b[39;00m \u001b[43mop\u001b[49m\u001b[43m(\u001b[49m\u001b[43mvalues\u001b[49m\u001b[43m,\u001b[49m\u001b[43m \u001b[49m\u001b[43maxis\u001b[49m\u001b[38;5;241;43m=\u001b[39;49m\u001b[43maxis\u001b[49m\u001b[43m,\u001b[49m\u001b[43m \u001b[49m\u001b[43mskipna\u001b[49m\u001b[38;5;241;43m=\u001b[39;49m\u001b[43mskipna\u001b[49m\u001b[43m,\u001b[49m\u001b[43m \u001b[49m\u001b[38;5;241;43m*\u001b[39;49m\u001b[38;5;241;43m*\u001b[39;49m\u001b[43mkwds\u001b[49m\u001b[43m)\u001b[49m\n",
      "File \u001b[0;32m/opt/homebrew/lib/python3.11/site-packages/pandas/core/nanops.py:103\u001b[0m, in \u001b[0;36mdisallow.__call__.<locals>._f\u001b[0;34m(*args, **kwargs)\u001b[0m\n\u001b[1;32m     97\u001b[0m \u001b[38;5;28;01mexcept\u001b[39;00m \u001b[38;5;167;01mValueError\u001b[39;00m \u001b[38;5;28;01mas\u001b[39;00m e:\n\u001b[1;32m     98\u001b[0m     \u001b[38;5;66;03m# we want to transform an object array\u001b[39;00m\n\u001b[1;32m     99\u001b[0m     \u001b[38;5;66;03m# ValueError message to the more typical TypeError\u001b[39;00m\n\u001b[1;32m    100\u001b[0m     \u001b[38;5;66;03m# e.g. this is normally a disallowed function on\u001b[39;00m\n\u001b[1;32m    101\u001b[0m     \u001b[38;5;66;03m# object arrays that contain strings\u001b[39;00m\n\u001b[1;32m    102\u001b[0m     \u001b[38;5;28;01mif\u001b[39;00m is_object_dtype(args[\u001b[38;5;241m0\u001b[39m]):\n\u001b[0;32m--> 103\u001b[0m         \u001b[38;5;28;01mraise\u001b[39;00m \u001b[38;5;167;01mTypeError\u001b[39;00m(e) \u001b[38;5;28;01mfrom\u001b[39;00m \u001b[38;5;21;01me\u001b[39;00m\n\u001b[1;32m    104\u001b[0m     \u001b[38;5;28;01mraise\u001b[39;00m\n",
      "\u001b[0;31mTypeError\u001b[0m: could not convert string to float: 'BNE'"
     ]
    }
   ],
   "source": [
    "action_df_filtered.skew()"
   ]
  },
  {
   "cell_type": "code",
   "execution_count": 36,
   "id": "6b933ed2-3332-4c61-ab3e-e1518c2d4334",
   "metadata": {
    "tags": []
   },
   "outputs": [],
   "source": [
    "# action_df_log = np.log(action_df_filtered['ACTIONREAS'])\n",
    "# action_df_log.skew()"
   ]
  },
  {
   "cell_type": "code",
   "execution_count": 37,
   "id": "c4033a04-734e-474a-ba51-8724df9ea3cc",
   "metadata": {
    "tags": []
   },
   "outputs": [],
   "source": [
    "def remove_outliers_positive_skewness(data):\n",
    "    \"\"\"\n",
    "    This function removes outliers from a dataset that exhibits positive skewness.\n",
    "\n",
    "    Args:\n",
    "    data (array-like): The dataset to remove outliers from.\n",
    "\n",
    "    Returns:\n",
    "    array-like: The cleaned dataset with outliers removed.\n",
    "    \"\"\"\n",
    "\n",
    "    # Calculate the skewness of the dataset\n",
    "    #skewness = np.skew(data)\n",
    "\n",
    "    # Calculate the interquartile range (IQR) of the dataset\n",
    "    q1, q3 = np.percentile(data, [25, 75])\n",
    "    iqr = q3 - q1\n",
    "\n",
    "    # Calculate the upper bound of the data\n",
    "    upper_bound = q3 + (1.5 * iqr)\n",
    "\n",
    "    # Remove the outliers from the dataset\n",
    "    cleaned_data = data[data <= upper_bound]\n",
    "\n",
    "    return cleaned_data"
   ]
  },
  {
   "cell_type": "code",
   "execution_count": 38,
   "id": "d6566e29-0cd0-48fb-9779-ff8ae3b6d9f9",
   "metadata": {
    "tags": []
   },
   "outputs": [],
   "source": [
    "actionreas_clean =  remove_outliers_positive_skewness(action_df_filtered['ACTIONTYPE'])"
   ]
  },
  {
   "cell_type": "code",
   "execution_count": 39,
   "id": "9c336033-6057-42d7-94af-b6d7fc6d7181",
   "metadata": {
    "tags": []
   },
   "outputs": [
    {
     "data": {
      "text/plain": [
       "30       4\n",
       "31       4\n",
       "32       2\n",
       "33       4\n",
       "34       4\n",
       "        ..\n",
       "20165    9\n",
       "20166    9\n",
       "20167    9\n",
       "20168    9\n",
       "20169    9\n",
       "Name: ACTIONTYPE, Length: 18654, dtype: int64"
      ]
     },
     "execution_count": 39,
     "metadata": {},
     "output_type": "execute_result"
    }
   ],
   "source": [
    "actionreas_clean"
   ]
  },
  {
   "cell_type": "code",
   "execution_count": 40,
   "id": "7d150382-6b26-4db4-8d39-57e70a685aa7",
   "metadata": {
    "tags": []
   },
   "outputs": [],
   "source": [
    "action_df_filtered['ACTIONTYPE'] = actionreas_clean\n",
    "\n",
    "# After removing outliner now dataset has some NaN values and that need to replace by mode values to keep data normal distribution\n",
    "# select ACTIONREAS mode value by getting the first element from return list\n",
    "mode = action_df_filtered['ACTIONTYPE'].mode().values[0]\n",
    "# replace NaN by mode value for string datatype\n",
    "action_df_filtered['ACTIONTYPE'] = action_df_filtered['ACTIONTYPE'].replace({np.NaN: mode})\n",
    "\n",
    "action_df_filtered['ACTIONTYPE'] = action_df_filtered['ACTIONTYPE'].apply(np.ceil)\n",
    "action_df_filtered[\"ACTIONTYPE\"] = action_df_filtered[\"ACTIONTYPE\"].astype('int64')"
   ]
  },
  {
   "cell_type": "code",
   "execution_count": 41,
   "id": "f0f2781d-1393-4a19-9ffd-a90b0cae95b8",
   "metadata": {
    "tags": []
   },
   "outputs": [
    {
     "data": {
      "text/plain": [
       "0"
      ]
     },
     "execution_count": 41,
     "metadata": {},
     "output_type": "execute_result"
    }
   ],
   "source": [
    "# Check null value at ACTIONTYPE col\n",
    "action_df_filtered['ACTIONTYPE'].isnull().values.any()\n",
    "action_df_filtered['ACTIONTYPE'].isnull().sum()"
   ]
  },
  {
   "cell_type": "code",
   "execution_count": 42,
   "id": "fc6ced2e-e409-4d55-9a91-67c8aa601a4e",
   "metadata": {
    "tags": []
   },
   "outputs": [
    {
     "name": "stdout",
     "output_type": "stream",
     "text": [
      "<class 'pandas.core.frame.DataFrame'>\n",
      "RangeIndex: 20170 entries, 0 to 20169\n",
      "Data columns (total 5 columns):\n",
      " #   Column         Non-Null Count  Dtype \n",
      "---  ------         --------------  ----- \n",
      " 0   ACTIONTYPE     20170 non-null  int64 \n",
      " 1   ACTIONREAS     20170 non-null  int64 \n",
      " 2   AGE            20170 non-null  int64 \n",
      " 3   BUS_AREA       20168 non-null  object\n",
      " 4   _BIC_TERMDATE  20170 non-null  int64 \n",
      "dtypes: int64(4), object(1)\n",
      "memory usage: 788.0+ KB\n",
      "None\n"
     ]
    }
   ],
   "source": [
    "print(action_df_filtered.info())"
   ]
  },
  {
   "cell_type": "code",
   "execution_count": 43,
   "id": "cf177161-222e-44a6-9796-4b94ad17c6e6",
   "metadata": {
    "tags": []
   },
   "outputs": [
    {
     "data": {
      "text/html": [
       "<div>\n",
       "<style scoped>\n",
       "    .dataframe tbody tr th:only-of-type {\n",
       "        vertical-align: middle;\n",
       "    }\n",
       "\n",
       "    .dataframe tbody tr th {\n",
       "        vertical-align: top;\n",
       "    }\n",
       "\n",
       "    .dataframe thead th {\n",
       "        text-align: right;\n",
       "    }\n",
       "</style>\n",
       "<table border=\"1\" class=\"dataframe\">\n",
       "  <thead>\n",
       "    <tr style=\"text-align: right;\">\n",
       "      <th></th>\n",
       "      <th>ACTIONTYPE</th>\n",
       "      <th>ACTIONREAS</th>\n",
       "      <th>AGE</th>\n",
       "      <th>BUS_AREA</th>\n",
       "      <th>_BIC_TERMDATE</th>\n",
       "    </tr>\n",
       "  </thead>\n",
       "  <tbody>\n",
       "    <tr>\n",
       "      <th>0</th>\n",
       "      <td>16</td>\n",
       "      <td>2</td>\n",
       "      <td>42</td>\n",
       "      <td>BNE</td>\n",
       "      <td>0</td>\n",
       "    </tr>\n",
       "    <tr>\n",
       "      <th>1</th>\n",
       "      <td>16</td>\n",
       "      <td>2</td>\n",
       "      <td>37</td>\n",
       "      <td>HF</td>\n",
       "      <td>0</td>\n",
       "    </tr>\n",
       "    <tr>\n",
       "      <th>2</th>\n",
       "      <td>16</td>\n",
       "      <td>2</td>\n",
       "      <td>66</td>\n",
       "      <td>ADL</td>\n",
       "      <td>0</td>\n",
       "    </tr>\n",
       "    <tr>\n",
       "      <th>3</th>\n",
       "      <td>16</td>\n",
       "      <td>2</td>\n",
       "      <td>50</td>\n",
       "      <td>BNE</td>\n",
       "      <td>0</td>\n",
       "    </tr>\n",
       "    <tr>\n",
       "      <th>4</th>\n",
       "      <td>16</td>\n",
       "      <td>2</td>\n",
       "      <td>46</td>\n",
       "      <td>BNE</td>\n",
       "      <td>0</td>\n",
       "    </tr>\n",
       "    <tr>\n",
       "      <th>...</th>\n",
       "      <td>...</td>\n",
       "      <td>...</td>\n",
       "      <td>...</td>\n",
       "      <td>...</td>\n",
       "      <td>...</td>\n",
       "    </tr>\n",
       "    <tr>\n",
       "      <th>20165</th>\n",
       "      <td>9</td>\n",
       "      <td>1</td>\n",
       "      <td>32</td>\n",
       "      <td>JIN</td>\n",
       "      <td>20230210</td>\n",
       "    </tr>\n",
       "    <tr>\n",
       "      <th>20166</th>\n",
       "      <td>9</td>\n",
       "      <td>1</td>\n",
       "      <td>51</td>\n",
       "      <td>ADL</td>\n",
       "      <td>20230219</td>\n",
       "    </tr>\n",
       "    <tr>\n",
       "      <th>20167</th>\n",
       "      <td>9</td>\n",
       "      <td>1</td>\n",
       "      <td>51</td>\n",
       "      <td>ECH</td>\n",
       "      <td>20230222</td>\n",
       "    </tr>\n",
       "    <tr>\n",
       "      <th>20168</th>\n",
       "      <td>9</td>\n",
       "      <td>1</td>\n",
       "      <td>38</td>\n",
       "      <td>HF</td>\n",
       "      <td>20230302</td>\n",
       "    </tr>\n",
       "    <tr>\n",
       "      <th>20169</th>\n",
       "      <td>9</td>\n",
       "      <td>1</td>\n",
       "      <td>36</td>\n",
       "      <td>ROW</td>\n",
       "      <td>20230310</td>\n",
       "    </tr>\n",
       "  </tbody>\n",
       "</table>\n",
       "<p>20170 rows × 5 columns</p>\n",
       "</div>"
      ],
      "text/plain": [
       "       ACTIONTYPE  ACTIONREAS  AGE BUS_AREA  _BIC_TERMDATE\n",
       "0              16           2   42      BNE              0\n",
       "1              16           2   37       HF              0\n",
       "2              16           2   66      ADL              0\n",
       "3              16           2   50      BNE              0\n",
       "4              16           2   46      BNE              0\n",
       "...           ...         ...  ...      ...            ...\n",
       "20165           9           1   32      JIN       20230210\n",
       "20166           9           1   51      ADL       20230219\n",
       "20167           9           1   51      ECH       20230222\n",
       "20168           9           1   38       HF       20230302\n",
       "20169           9           1   36      ROW       20230310\n",
       "\n",
       "[20170 rows x 5 columns]"
      ]
     },
     "execution_count": 43,
     "metadata": {},
     "output_type": "execute_result"
    }
   ],
   "source": [
    "action_df_filtered"
   ]
  },
  {
   "cell_type": "code",
   "execution_count": 44,
   "id": "f4bac588-73a3-4afb-b27e-8f900102fb57",
   "metadata": {
    "tags": []
   },
   "outputs": [
    {
     "name": "stdout",
     "output_type": "stream",
     "text": [
      "***ACTIONTYPE***\n"
     ]
    },
    {
     "data": {
      "image/png": "[encoded data removed]",
      "text/plain": [
       "<Figure size 640x480 with 1 Axes>"
      ]
     },
     "metadata": {},
     "output_type": "display_data"
    }
   ],
   "source": [
    "print(\"***ACTIONTYPE***\")\n",
    "draw_plot('ACTIONTYPE')"
   ]
  },
  {
   "cell_type": "markdown",
   "id": "2157ccf5-8a34-4813-aef4-c7858a25940d",
   "metadata": {},
   "source": [
    "### Create new col IS_VOLUNTARY with flag 0 or 1 for Voluntary Resignations  "
   ]
  },
  {
   "cell_type": "code",
   "execution_count": 45,
   "id": "9b4301b7-4a9b-4ce4-b6a2-b11854847c45",
   "metadata": {
    "tags": []
   },
   "outputs": [],
   "source": [
    "# define a function to map voluntary resignation\n",
    "# action type 9 or 10 and action reason 01 => 1\n",
    "# else =>  0\n",
    "\n",
    "def map_values(action_type, action_reason):\n",
    "    if ((action_type == 9 or action_type == 10) and action_reason == 1):\n",
    "        return 1\n",
    "    else:\n",
    "        return 0\n"
   ]
  },
  {
   "cell_type": "code",
   "execution_count": 46,
   "id": "475ec5f3-3e80-457b-874d-86a4328103e4",
   "metadata": {
    "tags": []
   },
   "outputs": [
    {
     "name": "stdout",
     "output_type": "stream",
     "text": [
      "       ACTIONTYPE  ACTIONREAS  AGE BUS_AREA  _BIC_TERMDATE  IS_VOLUNTARY\n",
      "0              16           2   42      BNE              0             0\n",
      "1              16           2   37       HF              0             0\n",
      "2              16           2   66      ADL              0             0\n",
      "3              16           2   50      BNE              0             0\n",
      "4              16           2   46      BNE              0             0\n",
      "...           ...         ...  ...      ...            ...           ...\n",
      "20165           9           1   32      JIN       20230210             1\n",
      "20166           9           1   51      ADL       20230219             1\n",
      "20167           9           1   51      ECH       20230222             1\n",
      "20168           9           1   38       HF       20230302             1\n",
      "20169           9           1   36      ROW       20230310             1\n",
      "\n",
      "[20170 rows x 6 columns]\n"
     ]
    }
   ],
   "source": [
    "# apply the function to create a new column based on old_column\n",
    "action_df_filtered['IS_VOLUNTARY'] = action_df_filtered.apply(lambda row: map_values(row['ACTIONTYPE'], row['ACTIONREAS']), axis=1)\n",
    "\n",
    "# display the modified dataframe\n",
    "print(action_df_filtered)\n"
   ]
  },
  {
   "cell_type": "markdown",
   "id": "fc3f8463-ae02-4790-a35f-f8dc7fdd973b",
   "metadata": {},
   "source": [
    "# Building some correlation model to understand about dataset"
   ]
  },
  {
   "cell_type": "code",
   "execution_count": 47,
   "id": "c612bd4c-19ae-4313-b540-4499ef908c8b",
   "metadata": {
    "tags": []
   },
   "outputs": [
    {
     "ename": "ValueError",
     "evalue": "could not convert string to float: 'BNE'",
     "output_type": "error",
     "traceback": [
      "\u001b[0;31m---------------------------------------------------------------------------\u001b[0m",
      "\u001b[0;31mValueError\u001b[0m                                Traceback (most recent call last)",
      "Cell \u001b[0;32mIn[47], line 4\u001b[0m\n\u001b[1;32m      1\u001b[0m \u001b[38;5;66;03m# Identify the highly correlated variable pairs and elaborate on how to treat these \u001b[39;00m\n\u001b[1;32m      2\u001b[0m \u001b[38;5;66;03m# variables in the mining process in such a case.\u001b[39;00m\n\u001b[1;32m      3\u001b[0m \u001b[38;5;66;03m# Select only numeric data type\u001b[39;00m\n\u001b[0;32m----> 4\u001b[0m corr \u001b[38;5;241m=\u001b[39m \u001b[43maction_df_filtered\u001b[49m\u001b[38;5;241;43m.\u001b[39;49m\u001b[43mcorr\u001b[49m\u001b[43m(\u001b[49m\u001b[43m)\u001b[49m\n\u001b[1;32m      5\u001b[0m f \u001b[38;5;241m=\u001b[39m plt\u001b[38;5;241m.\u001b[39mfigure(figsize\u001b[38;5;241m=\u001b[39m(\u001b[38;5;241m15\u001b[39m, \u001b[38;5;241m15\u001b[39m))\n\u001b[1;32m      6\u001b[0m plt\u001b[38;5;241m.\u001b[39mmatshow(action_df_filtered\u001b[38;5;241m.\u001b[39mcorr(), fignum\u001b[38;5;241m=\u001b[39mf\u001b[38;5;241m.\u001b[39mnumber)\n",
      "File \u001b[0;32m/opt/homebrew/lib/python3.11/site-packages/pandas/core/frame.py:10054\u001b[0m, in \u001b[0;36mDataFrame.corr\u001b[0;34m(self, method, min_periods, numeric_only)\u001b[0m\n\u001b[1;32m  10052\u001b[0m cols \u001b[38;5;241m=\u001b[39m data\u001b[38;5;241m.\u001b[39mcolumns\n\u001b[1;32m  10053\u001b[0m idx \u001b[38;5;241m=\u001b[39m cols\u001b[38;5;241m.\u001b[39mcopy()\n\u001b[0;32m> 10054\u001b[0m mat \u001b[38;5;241m=\u001b[39m \u001b[43mdata\u001b[49m\u001b[38;5;241;43m.\u001b[39;49m\u001b[43mto_numpy\u001b[49m\u001b[43m(\u001b[49m\u001b[43mdtype\u001b[49m\u001b[38;5;241;43m=\u001b[39;49m\u001b[38;5;28;43mfloat\u001b[39;49m\u001b[43m,\u001b[49m\u001b[43m \u001b[49m\u001b[43mna_value\u001b[49m\u001b[38;5;241;43m=\u001b[39;49m\u001b[43mnp\u001b[49m\u001b[38;5;241;43m.\u001b[39;49m\u001b[43mnan\u001b[49m\u001b[43m,\u001b[49m\u001b[43m \u001b[49m\u001b[43mcopy\u001b[49m\u001b[38;5;241;43m=\u001b[39;49m\u001b[38;5;28;43;01mFalse\u001b[39;49;00m\u001b[43m)\u001b[49m\n\u001b[1;32m  10056\u001b[0m \u001b[38;5;28;01mif\u001b[39;00m method \u001b[38;5;241m==\u001b[39m \u001b[38;5;124m\"\u001b[39m\u001b[38;5;124mpearson\u001b[39m\u001b[38;5;124m\"\u001b[39m:\n\u001b[1;32m  10057\u001b[0m     correl \u001b[38;5;241m=\u001b[39m libalgos\u001b[38;5;241m.\u001b[39mnancorr(mat, minp\u001b[38;5;241m=\u001b[39mmin_periods)\n",
      "File \u001b[0;32m/opt/homebrew/lib/python3.11/site-packages/pandas/core/frame.py:1837\u001b[0m, in \u001b[0;36mDataFrame.to_numpy\u001b[0;34m(self, dtype, copy, na_value)\u001b[0m\n\u001b[1;32m   1835\u001b[0m \u001b[38;5;28;01mif\u001b[39;00m dtype \u001b[38;5;129;01mis\u001b[39;00m \u001b[38;5;129;01mnot\u001b[39;00m \u001b[38;5;28;01mNone\u001b[39;00m:\n\u001b[1;32m   1836\u001b[0m     dtype \u001b[38;5;241m=\u001b[39m np\u001b[38;5;241m.\u001b[39mdtype(dtype)\n\u001b[0;32m-> 1837\u001b[0m result \u001b[38;5;241m=\u001b[39m \u001b[38;5;28;43mself\u001b[39;49m\u001b[38;5;241;43m.\u001b[39;49m\u001b[43m_mgr\u001b[49m\u001b[38;5;241;43m.\u001b[39;49m\u001b[43mas_array\u001b[49m\u001b[43m(\u001b[49m\u001b[43mdtype\u001b[49m\u001b[38;5;241;43m=\u001b[39;49m\u001b[43mdtype\u001b[49m\u001b[43m,\u001b[49m\u001b[43m \u001b[49m\u001b[43mcopy\u001b[49m\u001b[38;5;241;43m=\u001b[39;49m\u001b[43mcopy\u001b[49m\u001b[43m,\u001b[49m\u001b[43m \u001b[49m\u001b[43mna_value\u001b[49m\u001b[38;5;241;43m=\u001b[39;49m\u001b[43mna_value\u001b[49m\u001b[43m)\u001b[49m\n\u001b[1;32m   1838\u001b[0m \u001b[38;5;28;01mif\u001b[39;00m result\u001b[38;5;241m.\u001b[39mdtype \u001b[38;5;129;01mis\u001b[39;00m \u001b[38;5;129;01mnot\u001b[39;00m dtype:\n\u001b[1;32m   1839\u001b[0m     result \u001b[38;5;241m=\u001b[39m np\u001b[38;5;241m.\u001b[39marray(result, dtype\u001b[38;5;241m=\u001b[39mdtype, copy\u001b[38;5;241m=\u001b[39m\u001b[38;5;28;01mFalse\u001b[39;00m)\n",
      "File \u001b[0;32m/opt/homebrew/lib/python3.11/site-packages/pandas/core/internals/managers.py:1732\u001b[0m, in \u001b[0;36mBlockManager.as_array\u001b[0;34m(self, dtype, copy, na_value)\u001b[0m\n\u001b[1;32m   1730\u001b[0m         arr\u001b[38;5;241m.\u001b[39mflags\u001b[38;5;241m.\u001b[39mwriteable \u001b[38;5;241m=\u001b[39m \u001b[38;5;28;01mFalse\u001b[39;00m\n\u001b[1;32m   1731\u001b[0m \u001b[38;5;28;01melse\u001b[39;00m:\n\u001b[0;32m-> 1732\u001b[0m     arr \u001b[38;5;241m=\u001b[39m \u001b[38;5;28;43mself\u001b[39;49m\u001b[38;5;241;43m.\u001b[39;49m\u001b[43m_interleave\u001b[49m\u001b[43m(\u001b[49m\u001b[43mdtype\u001b[49m\u001b[38;5;241;43m=\u001b[39;49m\u001b[43mdtype\u001b[49m\u001b[43m,\u001b[49m\u001b[43m \u001b[49m\u001b[43mna_value\u001b[49m\u001b[38;5;241;43m=\u001b[39;49m\u001b[43mna_value\u001b[49m\u001b[43m)\u001b[49m\n\u001b[1;32m   1733\u001b[0m     \u001b[38;5;66;03m# The underlying data was copied within _interleave, so no need\u001b[39;00m\n\u001b[1;32m   1734\u001b[0m     \u001b[38;5;66;03m# to further copy if copy=True or setting na_value\u001b[39;00m\n\u001b[1;32m   1736\u001b[0m \u001b[38;5;28;01mif\u001b[39;00m na_value \u001b[38;5;129;01mis\u001b[39;00m \u001b[38;5;129;01mnot\u001b[39;00m lib\u001b[38;5;241m.\u001b[39mno_default:\n",
      "File \u001b[0;32m/opt/homebrew/lib/python3.11/site-packages/pandas/core/internals/managers.py:1794\u001b[0m, in \u001b[0;36mBlockManager._interleave\u001b[0;34m(self, dtype, na_value)\u001b[0m\n\u001b[1;32m   1792\u001b[0m     \u001b[38;5;28;01melse\u001b[39;00m:\n\u001b[1;32m   1793\u001b[0m         arr \u001b[38;5;241m=\u001b[39m blk\u001b[38;5;241m.\u001b[39mget_values(dtype)\n\u001b[0;32m-> 1794\u001b[0m     \u001b[43mresult\u001b[49m\u001b[43m[\u001b[49m\u001b[43mrl\u001b[49m\u001b[38;5;241;43m.\u001b[39;49m\u001b[43mindexer\u001b[49m\u001b[43m]\u001b[49m \u001b[38;5;241m=\u001b[39m arr\n\u001b[1;32m   1795\u001b[0m     itemmask[rl\u001b[38;5;241m.\u001b[39mindexer] \u001b[38;5;241m=\u001b[39m \u001b[38;5;241m1\u001b[39m\n\u001b[1;32m   1797\u001b[0m \u001b[38;5;28;01mif\u001b[39;00m \u001b[38;5;129;01mnot\u001b[39;00m itemmask\u001b[38;5;241m.\u001b[39mall():\n",
      "\u001b[0;31mValueError\u001b[0m: could not convert string to float: 'BNE'"
     ]
    }
   ],
   "source": [
    "# Identify the highly correlated variable pairs and elaborate on how to treat these \n",
    "# variables in the mining process in such a case.\n",
    "# Select only numeric data type\n",
    "corr = action_df_filtered.corr()\n",
    "f = plt.figure(figsize=(15, 15))\n",
    "plt.matshow(action_df_filtered.corr(), fignum=f.number)\n",
    "plt.xticks(range(action_df_filtered.select_dtypes(['int64']).shape[1]), action_df_filtered.select_dtypes(['int64']).columns, fontsize=14, rotation=90)\n",
    "plt.yticks(range(action_df_filtered.select_dtypes(['int64']).shape[1]), action_df_filtered.select_dtypes(['int64']).columns, fontsize=14)\n",
    "im = plt.imshow(corr, cmap='coolwarm')\n",
    "cb = plt.colorbar(im)\n",
    "cb.ax.tick_params(labelsize=14)\n",
    "plt.show()\n",
    "#plt.title('Correlation Matrix', fontsize=16);"
   ]
  },
  {
   "cell_type": "code",
   "execution_count": 48,
   "id": "812e4b9e-7b34-4843-bf7d-5e8c464d1c33",
   "metadata": {
    "tags": []
   },
   "outputs": [
    {
     "ename": "NameError",
     "evalue": "name 'corr' is not defined",
     "output_type": "error",
     "traceback": [
      "\u001b[0;31m---------------------------------------------------------------------------\u001b[0m",
      "\u001b[0;31mNameError\u001b[0m                                 Traceback (most recent call last)",
      "Cell \u001b[0;32mIn[48], line 1\u001b[0m\n\u001b[0;32m----> 1\u001b[0m sns\u001b[38;5;241m.\u001b[39mheatmap(\u001b[43mcorr\u001b[49m, annot\u001b[38;5;241m=\u001b[39m\u001b[38;5;28;01mTrue\u001b[39;00m, cmap\u001b[38;5;241m=\u001b[39m\u001b[38;5;124m'\u001b[39m\u001b[38;5;124mcoolwarm\u001b[39m\u001b[38;5;124m'\u001b[39m)\n\u001b[1;32m      2\u001b[0m plt\u001b[38;5;241m.\u001b[39mshow()\n",
      "\u001b[0;31mNameError\u001b[0m: name 'corr' is not defined"
     ]
    }
   ],
   "source": [
    "sns.heatmap(corr, annot=True, cmap='coolwarm')\n",
    "plt.show()"
   ]
  },
  {
   "cell_type": "code",
   "execution_count": null,
   "id": "043c69f4-8551-43fc-8d11-471fb6277c9d",
   "metadata": {},
   "outputs": [],
   "source": []
  }
 ],
 "metadata": {
  "availableInstances": [
   {
    "_defaultOrder": 0,
    "_isFastLaunch": true,
    "category": "General purpose",
    "gpuNum": 0,
    "hideHardwareSpecs": false,
    "memoryGiB": 4,
    "name": "ml.t3.medium",
    "vcpuNum": 2
   },
   {
    "_defaultOrder": 1,
    "_isFastLaunch": false,
    "category": "General purpose",
    "gpuNum": 0,
    "hideHardwareSpecs": false,
    "memoryGiB": 8,
    "name": "ml.t3.large",
    "vcpuNum": 2
   },
   {
    "_defaultOrder": 2,
    "_isFastLaunch": false,
    "category": "General purpose",
    "gpuNum": 0,
    "hideHardwareSpecs": false,
    "memoryGiB": 16,
    "name": "ml.t3.xlarge",
    "vcpuNum": 4
   },
   {
    "_defaultOrder": 3,
    "_isFastLaunch": false,
    "category": "General purpose",
    "gpuNum": 0,
    "hideHardwareSpecs": false,
    "memoryGiB": 32,
    "name": "ml.t3.2xlarge",
    "vcpuNum": 8
   },
   {
    "_defaultOrder": 4,
    "_isFastLaunch": true,
    "category": "General purpose",
    "gpuNum": 0,
    "hideHardwareSpecs": false,
    "memoryGiB": 8,
    "name": "ml.m5.large",
    "vcpuNum": 2
   },
   {
    "_defaultOrder": 5,
    "_isFastLaunch": false,
    "category": "General purpose",
    "gpuNum": 0,
    "hideHardwareSpecs": false,
    "memoryGiB": 16,
    "name": "ml.m5.xlarge",
    "vcpuNum": 4
   },
   {
    "_defaultOrder": 6,
    "_isFastLaunch": false,
    "category": "General purpose",
    "gpuNum": 0,
    "hideHardwareSpecs": false,
    "memoryGiB": 32,
    "name": "ml.m5.2xlarge",
    "vcpuNum": 8
   },
   {
    "_defaultOrder": 7,
    "_isFastLaunch": false,
    "category": "General purpose",
    "gpuNum": 0,
    "hideHardwareSpecs": false,
    "memoryGiB": 64,
    "name": "ml.m5.4xlarge",
    "vcpuNum": 16
   },
   {
    "_defaultOrder": 8,
    "_isFastLaunch": false,
    "category": "General purpose",
    "gpuNum": 0,
    "hideHardwareSpecs": false,
    "memoryGiB": 128,
    "name": "ml.m5.8xlarge",
    "vcpuNum": 32
   },
   {
    "_defaultOrder": 9,
    "_isFastLaunch": false,
    "category": "General purpose",
    "gpuNum": 0,
    "hideHardwareSpecs": false,
    "memoryGiB": 192,
    "name": "ml.m5.12xlarge",
    "vcpuNum": 48
   },
   {
    "_defaultOrder": 10,
    "_isFastLaunch": false,
    "category": "General purpose",
    "gpuNum": 0,
    "hideHardwareSpecs": false,
    "memoryGiB": 256,
    "name": "ml.m5.16xlarge",
    "vcpuNum": 64
   },
   {
    "_defaultOrder": 11,
    "_isFastLaunch": false,
    "category": "General purpose",
    "gpuNum": 0,
    "hideHardwareSpecs": false,
    "memoryGiB": 384,
    "name": "ml.m5.24xlarge",
    "vcpuNum": 96
   },
   {
    "_defaultOrder": 12,
    "_isFastLaunch": false,
    "category": "General purpose",
    "gpuNum": 0,
    "hideHardwareSpecs": false,
    "memoryGiB": 8,
    "name": "ml.m5d.large",
    "vcpuNum": 2
   },
   {
    "_defaultOrder": 13,
    "_isFastLaunch": false,
    "category": "General purpose",
    "gpuNum": 0,
    "hideHardwareSpecs": false,
    "memoryGiB": 16,
    "name": "ml.m5d.xlarge",
    "vcpuNum": 4
   },
   {
    "_defaultOrder": 14,
    "_isFastLaunch": false,
    "category": "General purpose",
    "gpuNum": 0,
    "hideHardwareSpecs": false,
    "memoryGiB": 32,
    "name": "ml.m5d.2xlarge",
    "vcpuNum": 8
   },
   {
    "_defaultOrder": 15,
    "_isFastLaunch": false,
    "category": "General purpose",
    "gpuNum": 0,
    "hideHardwareSpecs": false,
    "memoryGiB": 64,
    "name": "ml.m5d.4xlarge",
    "vcpuNum": 16
   },
   {
    "_defaultOrder": 16,
    "_isFastLaunch": false,
    "category": "General purpose",
    "gpuNum": 0,
    "hideHardwareSpecs": false,
    "memoryGiB": 128,
    "name": "ml.m5d.8xlarge",
    "vcpuNum": 32
   },
   {
    "_defaultOrder": 17,
    "_isFastLaunch": false,
    "category": "General purpose",
    "gpuNum": 0,
    "hideHardwareSpecs": false,
    "memoryGiB": 192,
    "name": "ml.m5d.12xlarge",
    "vcpuNum": 48
   },
   {
    "_defaultOrder": 18,
    "_isFastLaunch": false,
    "category": "General purpose",
    "gpuNum": 0,
    "hideHardwareSpecs": false,
    "memoryGiB": 256,
    "name": "ml.m5d.16xlarge",
    "vcpuNum": 64
   },
   {
    "_defaultOrder": 19,
    "_isFastLaunch": false,
    "category": "General purpose",
    "gpuNum": 0,
    "hideHardwareSpecs": false,
    "memoryGiB": 384,
    "name": "ml.m5d.24xlarge",
    "vcpuNum": 96
   },
   {
    "_defaultOrder": 20,
    "_isFastLaunch": false,
    "category": "General purpose",
    "gpuNum": 0,
    "hideHardwareSpecs": true,
    "memoryGiB": 0,
    "name": "ml.geospatial.interactive",
    "supportedImageNames": [
     "sagemaker-geospatial-v1-0"
    ],
    "vcpuNum": 0
   },
   {
    "_defaultOrder": 21,
    "_isFastLaunch": true,
    "category": "Compute optimized",
    "gpuNum": 0,
    "hideHardwareSpecs": false,
    "memoryGiB": 4,
    "name": "ml.c5.large",
    "vcpuNum": 2
   },
   {
    "_defaultOrder": 22,
    "_isFastLaunch": false,
    "category": "Compute optimized",
    "gpuNum": 0,
    "hideHardwareSpecs": false,
    "memoryGiB": 8,
    "name": "ml.c5.xlarge",
    "vcpuNum": 4
   },
   {
    "_defaultOrder": 23,
    "_isFastLaunch": false,
    "category": "Compute optimized",
    "gpuNum": 0,
    "hideHardwareSpecs": false,
    "memoryGiB": 16,
    "name": "ml.c5.2xlarge",
    "vcpuNum": 8
   },
   {
    "_defaultOrder": 24,
    "_isFastLaunch": false,
    "category": "Compute optimized",
    "gpuNum": 0,
    "hideHardwareSpecs": false,
    "memoryGiB": 32,
    "name": "ml.c5.4xlarge",
    "vcpuNum": 16
   },
   {
    "_defaultOrder": 25,
    "_isFastLaunch": false,
    "category": "Compute optimized",
    "gpuNum": 0,
    "hideHardwareSpecs": false,
    "memoryGiB": 72,
    "name": "ml.c5.9xlarge",
    "vcpuNum": 36
   },
   {
    "_defaultOrder": 26,
    "_isFastLaunch": false,
    "category": "Compute optimized",
    "gpuNum": 0,
    "hideHardwareSpecs": false,
    "memoryGiB": 96,
    "name": "ml.c5.12xlarge",
    "vcpuNum": 48
   },
   {
    "_defaultOrder": 27,
    "_isFastLaunch": false,
    "category": "Compute optimized",
    "gpuNum": 0,
    "hideHardwareSpecs": false,
    "memoryGiB": 144,
    "name": "ml.c5.18xlarge",
    "vcpuNum": 72
   },
   {
    "_defaultOrder": 28,
    "_isFastLaunch": false,
    "category": "Compute optimized",
    "gpuNum": 0,
    "hideHardwareSpecs": false,
    "memoryGiB": 192,
    "name": "ml.c5.24xlarge",
    "vcpuNum": 96
   },
   {
    "_defaultOrder": 29,
    "_isFastLaunch": true,
    "category": "Accelerated computing",
    "gpuNum": 1,
    "hideHardwareSpecs": false,
    "memoryGiB": 16,
    "name": "ml.g4dn.xlarge",
    "vcpuNum": 4
   },
   {
    "_defaultOrder": 30,
    "_isFastLaunch": false,
    "category": "Accelerated computing",
    "gpuNum": 1,
    "hideHardwareSpecs": false,
    "memoryGiB": 32,
    "name": "ml.g4dn.2xlarge",
    "vcpuNum": 8
   },
   {
    "_defaultOrder": 31,
    "_isFastLaunch": false,
    "category": "Accelerated computing",
    "gpuNum": 1,
    "hideHardwareSpecs": false,
    "memoryGiB": 64,
    "name": "ml.g4dn.4xlarge",
    "vcpuNum": 16
   },
   {
    "_defaultOrder": 32,
    "_isFastLaunch": false,
    "category": "Accelerated computing",
    "gpuNum": 1,
    "hideHardwareSpecs": false,
    "memoryGiB": 128,
    "name": "ml.g4dn.8xlarge",
    "vcpuNum": 32
   },
   {
    "_defaultOrder": 33,
    "_isFastLaunch": false,
    "category": "Accelerated computing",
    "gpuNum": 4,
    "hideHardwareSpecs": false,
    "memoryGiB": 192,
    "name": "ml.g4dn.12xlarge",
    "vcpuNum": 48
   },
   {
    "_defaultOrder": 34,
    "_isFastLaunch": false,
    "category": "Accelerated computing",
    "gpuNum": 1,
    "hideHardwareSpecs": false,
    "memoryGiB": 256,
    "name": "ml.g4dn.16xlarge",
    "vcpuNum": 64
   },
   {
    "_defaultOrder": 35,
    "_isFastLaunch": false,
    "category": "Accelerated computing",
    "gpuNum": 1,
    "hideHardwareSpecs": false,
    "memoryGiB": 61,
    "name": "ml.p3.2xlarge",
    "vcpuNum": 8
   },
   {
    "_defaultOrder": 36,
    "_isFastLaunch": false,
    "category": "Accelerated computing",
    "gpuNum": 4,
    "hideHardwareSpecs": false,
    "memoryGiB": 244,
    "name": "ml.p3.8xlarge",
    "vcpuNum": 32
   },
   {
    "_defaultOrder": 37,
    "_isFastLaunch": false,
    "category": "Accelerated computing",
    "gpuNum": 8,
    "hideHardwareSpecs": false,
    "memoryGiB": 488,
    "name": "ml.p3.16xlarge",
    "vcpuNum": 64
   },
   {
    "_defaultOrder": 38,
    "_isFastLaunch": false,
    "category": "Accelerated computing",
    "gpuNum": 8,
    "hideHardwareSpecs": false,
    "memoryGiB": 768,
    "name": "ml.p3dn.24xlarge",
    "vcpuNum": 96
   },
   {
    "_defaultOrder": 39,
    "_isFastLaunch": false,
    "category": "Memory Optimized",
    "gpuNum": 0,
    "hideHardwareSpecs": false,
    "memoryGiB": 16,
    "name": "ml.r5.large",
    "vcpuNum": 2
   },
   {
    "_defaultOrder": 40,
    "_isFastLaunch": false,
    "category": "Memory Optimized",
    "gpuNum": 0,
    "hideHardwareSpecs": false,
    "memoryGiB": 32,
    "name": "ml.r5.xlarge",
    "vcpuNum": 4
   },
   {
    "_defaultOrder": 41,
    "_isFastLaunch": false,
    "category": "Memory Optimized",
    "gpuNum": 0,
    "hideHardwareSpecs": false,
    "memoryGiB": 64,
    "name": "ml.r5.2xlarge",
    "vcpuNum": 8
   },
   {
    "_defaultOrder": 42,
    "_isFastLaunch": false,
    "category": "Memory Optimized",
    "gpuNum": 0,
    "hideHardwareSpecs": false,
    "memoryGiB": 128,
    "name": "ml.r5.4xlarge",
    "vcpuNum": 16
   },
   {
    "_defaultOrder": 43,
    "_isFastLaunch": false,
    "category": "Memory Optimized",
    "gpuNum": 0,
    "hideHardwareSpecs": false,
    "memoryGiB": 256,
    "name": "ml.r5.8xlarge",
    "vcpuNum": 32
   },
   {
    "_defaultOrder": 44,
    "_isFastLaunch": false,
    "category": "Memory Optimized",
    "gpuNum": 0,
    "hideHardwareSpecs": false,
    "memoryGiB": 384,
    "name": "ml.r5.12xlarge",
    "vcpuNum": 48
   },
   {
    "_defaultOrder": 45,
    "_isFastLaunch": false,
    "category": "Memory Optimized",
    "gpuNum": 0,
    "hideHardwareSpecs": false,
    "memoryGiB": 512,
    "name": "ml.r5.16xlarge",
    "vcpuNum": 64
   },
   {
    "_defaultOrder": 46,
    "_isFastLaunch": false,
    "category": "Memory Optimized",
    "gpuNum": 0,
    "hideHardwareSpecs": false,
    "memoryGiB": 768,
    "name": "ml.r5.24xlarge",
    "vcpuNum": 96
   },
   {
    "_defaultOrder": 47,
    "_isFastLaunch": false,
    "category": "Accelerated computing",
    "gpuNum": 1,
    "hideHardwareSpecs": false,
    "memoryGiB": 16,
    "name": "ml.g5.xlarge",
    "vcpuNum": 4
   },
   {
    "_defaultOrder": 48,
    "_isFastLaunch": false,
    "category": "Accelerated computing",
    "gpuNum": 1,
    "hideHardwareSpecs": false,
    "memoryGiB": 32,
    "name": "ml.g5.2xlarge",
    "vcpuNum": 8
   },
   {
    "_defaultOrder": 49,
    "_isFastLaunch": false,
    "category": "Accelerated computing",
    "gpuNum": 1,
    "hideHardwareSpecs": false,
    "memoryGiB": 64,
    "name": "ml.g5.4xlarge",
    "vcpuNum": 16
   },
   {
    "_defaultOrder": 50,
    "_isFastLaunch": false,
    "category": "Accelerated computing",
    "gpuNum": 1,
    "hideHardwareSpecs": false,
    "memoryGiB": 128,
    "name": "ml.g5.8xlarge",
    "vcpuNum": 32
   },
   {
    "_defaultOrder": 51,
    "_isFastLaunch": false,
    "category": "Accelerated computing",
    "gpuNum": 1,
    "hideHardwareSpecs": false,
    "memoryGiB": 256,
    "name": "ml.g5.16xlarge",
    "vcpuNum": 64
   },
   {
    "_defaultOrder": 52,
    "_isFastLaunch": false,
    "category": "Accelerated computing",
    "gpuNum": 4,
    "hideHardwareSpecs": false,
    "memoryGiB": 192,
    "name": "ml.g5.12xlarge",
    "vcpuNum": 48
   },
   {
    "_defaultOrder": 53,
    "_isFastLaunch": false,
    "category": "Accelerated computing",
    "gpuNum": 4,
    "hideHardwareSpecs": false,
    "memoryGiB": 384,
    "name": "ml.g5.24xlarge",
    "vcpuNum": 96
   },
   {
    "_defaultOrder": 54,
    "_isFastLaunch": false,
    "category": "Accelerated computing",
    "gpuNum": 8,
    "hideHardwareSpecs": false,
    "memoryGiB": 768,
    "name": "ml.g5.48xlarge",
    "vcpuNum": 192
   }
  ],
  "instance_type": "ml.t3.medium",
  "kernelspec": {
   "display_name": "Python 3 (ipykernel)",
   "language": "python",
   "name": "python3"
  },
  "language_info": {
   "codemirror_mode": {
    "name": "ipython",
    "version": 3
   },
   "file_extension": ".py",
   "mimetype": "text/x-python",
   "name": "python",
   "nbconvert_exporter": "python",
   "pygments_lexer": "ipython3",
   "version": "3.11.3"
  }
 },
 "nbformat": 4,
 "nbformat_minor": 5
}
